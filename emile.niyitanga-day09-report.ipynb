{
 "cells": [
  {
   "cell_type": "markdown",
   "id": "fa416c3f-6cfa-4eeb-b6ce-aee65c97d5dc",
   "metadata": {},
   "source": [
    "# PyPro: challenge 1 \n",
    "\n",
    "### This challenge is due on Sunday 29th September 2024 at 8pm.\n",
    "\n",
    "`These exercises provide a wide range of challenges that test your understanding of Python's core concepts, such as control structures, data types, string manipulations, list comprehensions, and higher-order functions.`"
   ]
  },
  {
   "cell_type": "markdown",
   "id": "d8d06c0e-7e6c-4ddc-a59f-df7a411c6ce6",
   "metadata": {},
   "source": [
    "#### Basic Tasks\n",
    "\n",
    "1. Create a function `find_max()` that accepts two numeric inputs and returns the greater value. Avoid using the built-in `max()` function."
   ]
  },
  {
   "cell_type": "code",
   "execution_count": null,
   "id": "ae5c5df5-2970-49c3-9d84-fcfe24bc5557",
   "metadata": {},
   "outputs": [],
   "source": [
    "def find_max():\n",
    "    \"\"\"\n",
    "    input of two arguments\n",
    "    \"\"\"\n",
    "    x= int(input(\"Enter x: \"))\n",
    "    y= int(input(\"Enter y: \"))\n",
    "    if x>y:\n",
    "        '''\n",
    "        It will print the maximum vaLue\n",
    "        '''\n",
    "        print('maximum is: ',x)\n",
    "    else:\n",
    "        print(x,y)\n",
    "    \n",
    "find_max()"
   ]
  },
  {
   "cell_type": "markdown",
   "id": "d30d34d9-5893-4236-a424-31a61bab3de6",
   "metadata": {},
   "source": [
    "2. Develop a function `find_max_of_three()` to find the maximum among three given numbers."
   ]
  },
  {
   "cell_type": "code",
   "execution_count": null,
   "id": "55932fa8-5335-4edc-848f-4c80d12c9874",
   "metadata": {},
   "outputs": [],
   "source": [
    "def find_max():\n",
    "    x= int(input(\"Enter integer x: \"))\n",
    "    y= int(input(\"Enter integer y: \"))\n",
    "    z= int(input(\"Enter integer z: \"))\n",
    "    '''\n",
    "    The user is required to enter three integers\n",
    "    '''\n",
    "\n",
    "    if (x>=y) and (x>=z):\n",
    "        print(\"The maximum value is: \", x)\n",
    "    else:\n",
    "        print(x, y, z)\n",
    "find_max() "
   ]
  },
  {
   "cell_type": "markdown",
   "id": "ed3c0756-8174-42cf-ac47-23078ed5612d",
   "metadata": {},
   "source": [
    "3. Write a function to manually calculate the length of a given list or string without using `len()`."
   ]
  },
  {
   "cell_type": "code",
   "execution_count": null,
   "id": "99ee0c6b-85d1-4e10-8515-2c19a8ea059e",
   "metadata": {},
   "outputs": [],
   "source": [
    "def man_leng(input_data):\n",
    "    count = 0\n",
    "    for _ in input_data:\n",
    "        count += 1\n",
    "    return count\n",
    "list = [1, 2, 3, 4]\n",
    "print(man_leng(list))   "
   ]
  },
  {
   "cell_type": "code",
   "execution_count": null,
   "id": "943bf7bd-6c64-40e7-b08e-e36b02c8108d",
   "metadata": {},
   "outputs": [],
   "source": [
    "def man_leng(input_data):\n",
    "    count = 0\n",
    "    for _ in input_data:\n",
    "        count += 1\n",
    "    return count\n",
    "string = \"NIYITANGA\"\n",
    "print(man_leng(string)) "
   ]
  },
  {
   "cell_type": "markdown",
   "id": "eec877fb-83b4-4d66-81d1-2d72be94f372",
   "metadata": {},
   "source": [
    "4. Implement a function that checks if a given character is a vowel (a, e, i, o, u)."
   ]
  },
  {
   "cell_type": "code",
   "execution_count": null,
   "id": "2d319a70-c313-4ede-ab8b-f7941257bd76",
   "metadata": {},
   "outputs": [],
   "source": [
    "def is_vowel(char):\n",
    "    '''\n",
    "    Both lowercase and uppercase vowels\n",
    "    '''\n",
    "    vowels = 'aeiouAEIOU'  \n",
    "    return char in vowels\n",
    "print(is_vowel('a')) \n",
    "print(is_vowel('z')) \n",
    "print(is_vowel('E'))  \n"
   ]
  },
  {
   "cell_type": "markdown",
   "id": "cb70be88-a62d-4bcf-bf65-37d0a22846f7",
   "metadata": {},
   "source": [
    "5. Write a function `encode()` that converts a string into \"rövarspråket\" ([robber's language](https://en.wikipedia.org/wiki/R%C3%B6varspr%C3%A5ket)) by doubling consonants and placing \"o\" in between, e.g., \"hello\" -> \"hohelollolo\"."
   ]
  },
  {
   "cell_type": "code",
   "execution_count": null,
   "id": "1d6addf7-e987-4f18-a4b6-0bcc891bcb5e",
   "metadata": {},
   "outputs": [],
   "source": [
    "def encode(text):\n",
    "    vowels = 'aeiouAEIOU'\n",
    "    encoded_text = ''\n",
    "\n",
    "    for char in text:\n",
    "        if char.isalpha() and char not in vowels:  \n",
    "            encoded_text += char + 'o' + char\n",
    "        else:\n",
    "            encoded_text += char  \n",
    "\n",
    "    return encoded_text\n",
    "print(encode('hello')) \n",
    "print(encode('robber')) \n"
   ]
  },
  {
   "cell_type": "markdown",
   "id": "1095c0c6-67cc-4eb0-bd42-4754564f2a25",
   "metadata": {},
   "source": [
    "6. Create `sum_elements()` and `product_elements()` functions to sum and multiply all elements in a list, respectively."
   ]
  },
  {
   "cell_type": "code",
   "execution_count": null,
   "id": "64109698-36c9-418c-b69c-f335b2e1a73f",
   "metadata": {},
   "outputs": [],
   "source": [
    "def add_items(item_list):\n",
    "    aggregate = 0\n",
    "    for item in item_list:\n",
    "        aggregate += item\n",
    "    return aggregate\n",
    "def multiply_items(item_list):\n",
    "    result = 1\n",
    "    for item in item_list:\n",
    "        result *= item\n",
    "    return result\n",
    "sample_list = [1, 2, 3, 4]\n",
    "\n",
    "print(add_items(sample_list))     \n",
    "print(multiply_items(sample_list))  \n"
   ]
  },
  {
   "cell_type": "markdown",
   "id": "d45652c8-b971-47a9-80ca-3e647ea1dc47",
   "metadata": {},
   "source": [
    "7. Define a function `reverse_string()` to reverse the characters in a given string."
   ]
  },
  {
   "cell_type": "code",
   "execution_count": null,
   "id": "ccd6f394-e414-4132-9005-c9d1f3dae7ca",
   "metadata": {},
   "outputs": [],
   "source": [
    "def reverse_string(string):\n",
    "    reversed_string = ''\n",
    "    for char in string:\n",
    "        reversed_string = char + reversed_string \n",
    "    return reversed_string\n",
    "\n",
    "print(reverse_string(\"hi\")) \n",
    "print(reverse_string(\"brother\")) \n"
   ]
  },
  {
   "cell_type": "markdown",
   "id": "116fbdab-b720-432a-8bbc-fa312f9a1a57",
   "metadata": {},
   "source": [
    " \n",
    "8. Implement check_palindrome() to verify if a string reads the same forwards and backwards, i.e. is a palindrome"
   ]
  },
  {
   "cell_type": "code",
   "execution_count": null,
   "id": "474cdf16-e89e-468d-b174-8a19d06ba783",
   "metadata": {},
   "outputs": [],
   "source": [
    "def check_palindrome(string):\n",
    "    stri='emmy'\n",
    "    if (string == string[::-1]):\n",
    "        print('it is palindrome')\n",
    "    else:\n",
    "        print('it is not a palindrome')\n",
    "pal = 'madam'\n",
    "check_palindrome(pal)\n",
    "       "
   ]
  },
  {
   "cell_type": "markdown",
   "id": "6d6947a7-504d-4bda-b812-b3418d601058",
   "metadata": {},
   "source": [
    "10. Implement `check_palindrome()` to verify if a string reads the same forwards and backwards, i.e. is a [palindrome](https://en.wikipedia.org/wiki/Palindrome)."
   ]
  },
  {
   "cell_type": "code",
   "execution_count": null,
   "id": "cb11b551-5270-4efc-bbcd-fe3ffbadd887",
   "metadata": {},
   "outputs": [],
   "source": [
    "def isPalindrome(string):\n",
    "    for i in range(0, int(len(string))):\n",
    "        if string[i] != string[len(string)-i-1]:\n",
    "            return False\n",
    "    return True\n",
    "s = \"yezuwizuye\"\n",
    "izpli = isPalindrome(s)\n",
    "\n",
    "if (izpli):\n",
    "    print(\"Yes\")\n",
    "else:\n",
    "    print(\"No\")\n"
   ]
  },
  {
   "cell_type": "markdown",
   "id": "ce380718-8020-426f-a87a-a7f6e9268cdd",
   "metadata": {},
   "source": [
    "11. Develop a function `check_membership()` to determine if a value exists within a list."
   ]
  },
  {
   "cell_type": "code",
   "execution_count": null,
   "id": "3eaef00f-a7bd-4dbe-98ca-475bc0eefce9",
   "metadata": {},
   "outputs": [],
   "source": [
    "def check_membership(value, lst):\n",
    "    for element in lst:\n",
    "        if element == value:\n",
    "            return True\n",
    "    return False\n",
    "list = [1, 2, 3, 4, 5]\n",
    "\n",
    "print(check_membership(3, list))  \n"
   ]
  },
  {
   "cell_type": "markdown",
   "id": "41b668ec-1e44-4122-9b39-0303672b5ded",
   "metadata": {},
   "source": [
    "12. Write `check_overlap()` to identify if two lists share any elements."
   ]
  },
  {
   "cell_type": "code",
   "execution_count": null,
   "id": "437069b7-1943-4aac-8ff9-cde39915048c",
   "metadata": {},
   "outputs": [],
   "source": [
    "# check_overlap() to identify if two lists share any elements.\n",
    "def check_overlap(lst1, lst2):\n",
    "    return bool(set(lst1) & set(lst2))\n",
    "lst1 = [1, 2, 3, 4]\n",
    "lst2 = [4, 5, 6, 7]\n",
    "print(check_overlap(lst1, lst2))\n"
   ]
  },
  {
   "cell_type": "markdown",
   "id": "ae74682f-1dd4-45f4-a01f-734d44a6b991",
   "metadata": {},
   "source": [
    "13. Implement `repeat_char()` that generates a string with a specified character repeated `n` times."
   ]
  },
  {
   "cell_type": "code",
   "execution_count": null,
   "id": "7da4fa3e-a1a9-4389-ac35-016c6a023e30",
   "metadata": {},
   "outputs": [],
   "source": [
    "def repeat_char(char, n):\n",
    "    \n",
    "    return char * n\n",
    "print(repeat_char('emma', 3))  # Output: 'aaa'\n",
    "print(repeat_char('*', 2))  # Output: '**'\n"
   ]
  },
  {
   "cell_type": "markdown",
   "id": "0e444bf3-c3d9-40b1-9ec8-a1c2fe02020d",
   "metadata": {},
   "source": [
    "14. Create a function `print_histogram()` that takes a list of integers and prints a corresponding histogram."
   ]
  },
  {
   "cell_type": "code",
   "execution_count": null,
   "id": "1aa6a871-2600-4095-9187-f2aeea04b13a",
   "metadata": {},
   "outputs": [],
   "source": [
    "#function print_histogram() that takes a list of integers and prints a corresponding histogram.\n",
    "def print_histogram(data):\n",
    "    for value in data:\n",
    "        print('*' * value)\n",
    "print_histogram([5, 2, 9, 4])"
   ]
  },
  {
   "cell_type": "markdown",
   "id": "55c9ffcd-6946-44f5-a2a1-d91b8bc2ee3c",
   "metadata": {},
   "source": [
    "15. Implement `longest_word()` to find the longest word in a list."
   ]
  },
  {
   "cell_type": "code",
   "execution_count": null,
   "id": "77722071-e93f-43b0-98b1-8f13311b01c9",
   "metadata": {},
   "outputs": [],
   "source": [
    "# a function to find the longest word in a list.\n",
    "def longest_word(words):\n",
    "    if not words: \n",
    "        return None\n",
    "    return max(words, key=len)\n",
    "words = [\"emile\", \"eric\", \"alice\", \"emmy\"]\n",
    "print(longest_word(words))  \n"
   ]
  },
  {
   "cell_type": "markdown",
   "id": "83c0a3e1-8924-4de5-b50c-c6508d53fadc",
   "metadata": {},
   "source": [
    "16. Develop `filter_words()` to return words longer than a specified length from a list."
   ]
  },
  {
   "cell_type": "code",
   "execution_count": null,
   "id": "fae84f84-361f-461a-86cd-dac0967cf9a5",
   "metadata": {},
   "outputs": [],
   "source": [
    "# a function  to return words longer than a specified length from a list.\n",
    "def filter_words(words, length):\n",
    "    return [i for i in words if len(i) > length]\n",
    "words = [\"apple\", \"banana\", \"orange\", \"pineapple\"]\n",
    "print(filter_words(words, 5))  \n"
   ]
  },
  {
   "cell_type": "markdown",
   "id": "155e4a3e-bd8b-424c-be4e-4a712f5d9620",
   "metadata": {},
   "source": [
    "17. Enhance the palindrome recognizer to handle phrases, ignoring spaces, punctuation, and case."
   ]
  },
  {
   "cell_type": "markdown",
   "id": "7dbf5448-7f76-4e36-b028-499646e1aa12",
   "metadata": {},
   "source": [
    "18. Implement a function that checks if a given sentence is a [pangram](https://en.wikipedia.org/wiki/Pangram)."
   ]
  },
  {
   "cell_type": "markdown",
   "id": "7e678092-26b8-4b2d-8373-265023e36202",
   "metadata": {},
   "source": [
    "19. Write a function that generates verses for the \"99 Bottles of Beer\" song."
   ]
  },
  {
   "cell_type": "markdown",
   "id": "cdb279fe-db2d-4961-8614-08b8d629abf5",
   "metadata": {},
   "source": [
    "20. Create a translation function using a small dictionary to translate English words into French/."
   ]
  },
  {
   "cell_type": "markdown",
   "id": "1caf20a1-5568-4433-bf67-1b43447cead0",
   "metadata": {},
   "source": [
    "21. Develop `char_frequency()` to build a dictionary of character frequencies in a string."
   ]
  },
  {
   "cell_type": "markdown",
   "id": "edf93af1-e5af-49c4-9290-4ad7edc5136f",
   "metadata": {},
   "source": [
    "22. Implement a [Caesar cipher encoder/decoder using a shift of 13 (ROT-13)](https://en.wikipedia.org/wiki/ROT13)."
   ]
  },
  {
   "cell_type": "markdown",
   "id": "53d66599-a9b4-4271-b4aa-ed379456cb63",
   "metadata": {},
   "source": [
    "23. Create `fix_spaces()` to correct multiple spaces and missing spaces after periods in a text."
   ]
  },
  {
   "cell_type": "markdown",
   "id": "5a17d418-8e0c-4152-b04c-de7db77b8543",
   "metadata": {},
   "source": [
    "24. Write `convert_to_third_person()` to transform verbs into their third person singular form."
   ]
  },
  {
   "cell_type": "markdown",
   "id": "194564d4-b359-4bc8-947b-90ac6fedcdd1",
   "metadata": {},
   "source": [
    "25. Implement `make_ing_form()` to convert verbs into their present participle form using heuristic rules."
   ]
  },
  {
   "cell_type": "code",
   "execution_count": null,
   "id": "f2e5d41f-2caa-4764-ad04-5edf8dcbbbb3",
   "metadata": {},
   "outputs": [],
   "source": []
  }
 ],
 "metadata": {
  "kernelspec": {
   "display_name": "Python 3 (ipykernel)",
   "language": "python",
   "name": "python3"
  },
  "language_info": {
   "codemirror_mode": {
    "name": "ipython",
    "version": 3
   },
   "file_extension": ".py",
   "mimetype": "text/x-python",
   "name": "python",
   "nbconvert_exporter": "python",
   "pygments_lexer": "ipython3",
   "version": "3.12.4"
  }
 },
 "nbformat": 4,
 "nbformat_minor": 5
}
