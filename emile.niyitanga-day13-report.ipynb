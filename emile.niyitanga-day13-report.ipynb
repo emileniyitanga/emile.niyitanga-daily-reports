{
 "cells": [
  {
   "cell_type": "markdown",
   "metadata": {
    "id": "53N3iK03l1e2"
   },
   "source": [
    "# PyPro: Challenge 3\n",
    "\n",
    "### This challenge is due on Saturday, October 10th, 2024, at 8pm.\n",
    "\n",
    "`These exercises offer a diverse array of tasks that assess your comprehension of fundamental Python concepts such as loops, data types, string manipulations, list comprehensions, and higher-order functions.`\n",
    "\n",
    "\n",
    "\n",
    "Here is the given text in proper markdown format with numbered questions:\n",
    "\n",
    "# PyPro Challenges"
   ]
  },
  {
   "cell_type": "markdown",
   "metadata": {
    "id": "53N3iK03l1e2"
   },
   "source": [
    "1. **Perfect Numbers Calculation**  \n",
    "   By definition, a natural number is called a perfect number if its value is equal to the sum of its divisors. For example, 6 and 28 are perfect numbers:\n",
    "   \n",
    "   ```\n",
    "   1 + 2 + 3 = 6\n",
    "   1 + 2 + 4 + 7 + 14 = 28\n",
    "   ```\n",
    "   \n",
    "   Write a function `calc_perfect_numbers(max_exclusive)` that calculates all perfect numbers up to a maximum value, such as 10,000."
   ]
  },
  {
   "cell_type": "code",
   "execution_count": 3,
   "metadata": {},
   "outputs": [
    {
     "name": "stdout",
     "output_type": "stream",
     "text": [
      "Perfect numbers up to 10000: [6, 28, 496, 8128]\n"
     ]
    }
   ],
   "source": [
    "def calc_perfect_numbers(max_exclusive):\n",
    "    perfect_nums_list = []\n",
    "\n",
    "    def calculate_divisors_sum(value):\n",
    "        total_sum = 1  # 1 is always a divisor (except for 1 itself)\n",
    "        for factor in range(2, int(value**0.5) + 1):\n",
    "            if value % factor == 0:\n",
    "                total_sum += factor\n",
    "                if factor != value // factor:\n",
    "                    total_sum += value // factor\n",
    "        return total_sum\n",
    "\n",
    "    for number in range(2, limit_exclusive):\n",
    "        if calculate_divisors_sum(number) == number:\n",
    "            perfect_nums_list.append(number)\n",
    "\n",
    "    return perfect_nums_list\n",
    "max_value = 10000\n",
    "perfect_numbers = find_perfect_numbers(max_value)\n",
    "print(f\"Perfect numbers up to {max_value}: {perfect_numbers}\")"
   ]
  },
  {
   "cell_type": "markdown",
   "metadata": {
    "id": "53N3iK03l1e2"
   },
   "source": [
    "2. **Prime Numbers Calculation**  \n",
    "   Write a function `calc_primes_up_to(max_value)` to compute all prime numbers up to a given value. A prime number is a natural number greater than 1 that is only divisible by 1 and itself. The Sieve of Eratosthenes is a useful algorithm for this task.  \n",
    "   Test your algorithm with the following values:\n",
    "   \n",
    "   | Input | Result                                      |\n",
    "   |-------|---------------------------------------------|\n",
    "   | 15    | [2, 3, 5, 7, 11, 13]                        |\n",
    "   | 25    | [2, 3, 5, 7, 11, 13, 17, 19, 23]            |\n",
    "   | 50    | [2, 3, 5, 7, 11, 13, 17, 19, 23, 29, 31...] |"
   ]
  },
  {
   "cell_type": "code",
   "execution_count": 9,
   "metadata": {},
   "outputs": [
    {
     "name": "stdout",
     "output_type": "stream",
     "text": [
      "Primes up to 15: [2, 3, 5, 7, 11, 13]\n",
      "Primes up to 25: [2, 3, 5, 7, 11, 13, 17, 19, 23]\n",
      "Primes up to 50: [2, 3, 5, 7, 11, 13, 17, 19, 23, 29, 31, 37, 41, 43, 47]\n"
     ]
    }
   ],
   "source": [
    "def calc_primes_up_to(max_value):\n",
    "    prime_sieve = [True] * (max_value + 1)\n",
    "    prime_sieve[0] = prime_sieve[1] = False\n",
    "    \n",
    "    for current in range(2, int(max_value**0.5) + 1):\n",
    "        if prime_sieve[current]:\n",
    "            for non_prime in range(current * current, max_value + 1, current):\n",
    "                prime_sieve[non_prime] = False\n",
    "    \n",
    "    prime_numbers = [i for i in range(2, limit_value + 1) if prime_sieve[i]]\n",
    "    \n",
    "    return prime_numbers\n",
    "\n",
    "print(\"Primes up to 15:\", find_primes_until(15))\n",
    "print(\"Primes up to 25:\", find_primes_until(25))\n",
    "print(\"Primes up to 50:\", find_primes_until(50))"
   ]
  },
  {
   "cell_type": "markdown",
   "metadata": {
    "id": "53N3iK03l1e2"
   },
   "source": [
    "3. **Twin, Cousin, and Sexy Prime Numbers**  \n",
    "   Compute all pairs of prime numbers with a distance of 2 (twin), 4 (cousin), and 6 (sexy) up to an upper bound `n`.  \n",
    "   For example, for `limit=50`, the expected results are:\n",
    "   \n",
    "   - **Twins**: `{3: 5, 5: 7, 11: 13, 17: 19, 29: 31, 41: 43}`\n",
    "   - **Cousins**: `{3: 7, 7: 11, 13: 17, 19: 23, 37: 41, 43: 47}`\n",
    "   - **Sexy**: `{5: 11, 7: 13, 11: 17, 13: 19, 17: 23, 23: 29, 31: 37, 37: 43, 41: 47, 47: 53}`"
   ]
  },
  {
   "cell_type": "code",
   "execution_count": 11,
   "metadata": {},
   "outputs": [
    {
     "name": "stdout",
     "output_type": "stream",
     "text": [
      "Twin Primes: {3: 5, 5: 7, 11: 13, 17: 19, 29: 31, 41: 43}\n",
      "Cousin Primes: {7: 11, 13: 17, 19: 23, 37: 41, 43: 47}\n",
      "Sexy Primes: {23: 29, 31: 37}\n"
     ]
    }
   ],
   "source": [
    "def prime_sieve(maximum_value):\n",
    "    prime_list = [True] * (maximum_value + 1)\n",
    "    prime_list[0] = prime_list[1] = False\n",
    "    for number in range(2, int(maximum_value**0.5) + 1):\n",
    "        if prime_list[number]:\n",
    "            for multiple in range(number * number, maximum_value + 1, number):\n",
    "                prime_list[multiple] = False\n",
    "    prime_numbers = [i for i in range(2, maximum_value + 1) if prime_list[i]]\n",
    "    return prime_numbers\n",
    "\n",
    "def locate_prime_pairs(prime_numbers, gap):\n",
    "    prime_pair_dict = {}\n",
    "    for index in range(len(prime_numbers) - 1):\n",
    "        if prime_numbers[index + 1] - prime_numbers[index] == gap:\n",
    "            prime_pair_dict[prime_numbers[index]] = prime_numbers[index + 1]\n",
    "    return prime_pair_dict\n",
    "\n",
    "def find_twin_cousin_sexy_primes(max_limit):\n",
    "    prime_numbers = prime_sieve(max_limit)\n",
    "    \n",
    "    twin_prime_pairs = locate_prime_pairs(prime_numbers, 2)\n",
    "    \n",
    "    cousin_prime_pairs = locate_prime_pairs(prime_numbers, 4)\n",
    "    \n",
    "    sexy_prime_pairs = locate_prime_pairs(prime_numbers, 6)\n",
    "    \n",
    "    return twin_prime_pairs, cousin_prime_pairs, sexy_prime_pairs\n",
    "\n",
    "max_limit = 50\n",
    "twin_prime_pairs, cousin_prime_pairs, sexy_prime_pairs = find_twin_cousin_sexy_primes(max_limit)\n",
    "\n",
    "print(f\"Twin Primes: {twin_prime_pairs}\")\n",
    "print(f\"Cousin Primes: {cousin_prime_pairs}\")\n",
    "print(f\"Sexy Primes: {sexy_prime_pairs}\")"
   ]
  },
  {
   "cell_type": "markdown",
   "metadata": {
    "id": "53N3iK03l1e2"
   },
   "source": [
    "4. **Sum of Digits (Recursive)**  \n",
    "   Write a recursive function `calc_sum_of_digits(value)` that calculates the sum of the digits of a given number.  \n",
    "   Examples:\n",
    "   \n",
    "   | Input  | Number of Digits | Cross Sum         |\n",
    "   |--------|------------------|-------------------|\n",
    "   | 1234   | 4                | 1 + 2 + 3 + 4 = 10|\n",
    "   | 1234567| 7                | 1 + 2 + 3 + ... 7 = 28|"
   ]
  },
  {
   "cell_type": "code",
   "execution_count": 26,
   "metadata": {},
   "outputs": [
    {
     "name": "stdout",
     "output_type": "stream",
     "text": [
      "Sum of digits of 1234 = 10\n",
      "Sum of digits of 1234567 = 28\n"
     ]
    }
   ],
   "source": [
    "#a recursive function calc_sum_of_digits(value) that calculates the sum of the digits of a given number.\n",
    "def calc_sum_of_digits(value):\n",
    "    if value == 0:\n",
    "        return 0\n",
    "    else:\n",
    "        return value % 10 + calc_sum_of_digits(value // 10)\n",
    "\n",
    "number1 = 1234\n",
    "number2 = 1234567\n",
    "\n",
    "print(f\"Sum of digits of {number1} = {calc_sum_of_digits(number1)}\")\n",
    "print(f\"Sum of digits of {number2} = {calc_sum_of_digits(number2)}\")"
   ]
  },
  {
   "cell_type": "markdown",
   "metadata": {
    "id": "53N3iK03l1e2"
   },
   "source": [
    "5. **Convert to Binary (Recursive)**  \n",
    "   Write a function `to_binary(n)` that recursively converts the given positive integer into its binary string representation (without using `int(x, base)`).  \n",
    "   Examples:\n",
    "   \n",
    "   | Input | Result       |\n",
    "   |-------|--------------|\n",
    "   | 5     | \"101\"        |\n",
    "   | 7     | \"111\"        |\n",
    "   | 22    | \"10110\"      |\n",
    "   | 42    | \"101010\"     |\n",
    "   | 256   | \"100000000\"  |"
   ]
  },
  {
   "cell_type": "code",
   "execution_count": 28,
   "metadata": {},
   "outputs": [
    {
     "name": "stdout",
     "output_type": "stream",
     "text": [
      "Binary of 5 = 101\n",
      "Binary of 7 = 111\n",
      "Binary of 22 = 10110\n",
      "Binary of 42 = 101010\n",
      "Binary of 256 = 100000000\n"
     ]
    }
   ],
   "source": [
    "#function to_binary(n) that recursively converts the given positive integer into its binary string representation (without using int(x, base))\n",
    "def to_binary(n):\n",
    "    if n == 0:\n",
    "        return \"0\"\n",
    "    elif n == 1:\n",
    "        return \"1\"\n",
    "    else:\n",
    "        return to_binary(n // 2) + str(n % 2)\n",
    "\n",
    "input1 = 5\n",
    "input2 = 7\n",
    "input3 = 22\n",
    "input4 = 42\n",
    "input5 = 256\n",
    "\n",
    "print(f\"Binary of {input1} = {to_binary(input1)}\")\n",
    "print(f\"Binary of {input2} = {to_binary(input2)}\")\n",
    "print(f\"Binary of {input3} = {to_binary(input3)}\")\n",
    "print(f\"Binary of {input4} = {to_binary(input4)}\")\n",
    "print(f\"Binary of {input5} = {to_binary(input5)}\")"
   ]
  },
  {
   "cell_type": "markdown",
   "metadata": {
    "id": "53N3iK03l1e2"
   },
   "source": [
    "6. **Letter Permutations**  \n",
    "   Write a function `calc_permutations(text)` that calculates all possible permutations of the characters in the given string. Handle duplicate letters but avoid using Python's `itertools.permutations()`.  \n",
    "   Examples:\n",
    "   \n",
    "   | Input | Result                                       |\n",
    "   |-------|----------------------------------------------|\n",
    "   | \"a\"   | \"a\"                                          |\n",
    "   | \"aa\"  | \"aa\"                                         |\n",
    "   | \"aB\"  | \"aB\", \"Ba\"                                   |\n",
    "   | \"aBC\" | \"aBC\", \"BaC\", \"aCB\", \"CaB\", \"CBa\", \"BCa\"     |\n",
    "   | \"aaC\" | \"aaC\", \"aCa\", \"Caa\"                          |"
   ]
  },
  {
   "cell_type": "code",
   "execution_count": 34,
   "metadata": {},
   "outputs": [
    {
     "name": "stdout",
     "output_type": "stream",
     "text": [
      "Permutations of 'a' = ['a']\n",
      "Permutations of 'aa' = ['aa']\n",
      "Permutations of 'aB' = ['Ba', 'aB']\n",
      "Permutations of 'aBC' = ['BCa', 'BaC', 'CBa', 'CaB', 'aBC', 'aCB']\n",
      "Permutations of 'aaC' = ['Caa', 'aCa', 'aaC']\n"
     ]
    }
   ],
   "source": [
    "#function calc_permutations(text) that calculates all possible permutations of the characters in the given string.\n",
    "def calc_permutations(text):\n",
    "    def generate_permutations(remaining_chars, current_path, unique_results):\n",
    "        if not remaining_chars:\n",
    "            unique_results.add(current_path)\n",
    "        else:\n",
    "            for index in range(len(remaining_chars)):\n",
    "                generate_permutations(remaining_chars[:index] + remaining_chars[index+1:], current_path + remaining_chars[index], unique_results)\n",
    "    \n",
    "    unique_results = set()\n",
    "    generate_permutations(text, \"\", unique_results)\n",
    "    return sorted(unique_results)\n",
    "\n",
    "input1 = \"a\"\n",
    "input2 = \"aa\"\n",
    "input3 = \"aB\"\n",
    "input4 = \"aBC\"\n",
    "input5 = \"aaC\"\n",
    "\n",
    "print(f\"Permutations of '{input1}' = {calc_permutations(input1)}\")\n",
    "print(f\"Permutations of '{input2}' = {calc_permutations(input2)}\")\n",
    "print(f\"Permutations of '{input3}' = {calc_permutations(input3)}\")\n",
    "print(f\"Permutations of '{input4}' = {calc_permutations(input4)}\")\n",
    "print(f\"Permutations of '{input5}' = {calc_permutations(input5)}\")"
   ]
  },
  {
   "cell_type": "markdown",
   "metadata": {
    "id": "53N3iK03l1e2"
   },
   "source": [
    "7. **Join Strings with Delimiter**  \n",
    "   Write a function `join(values, delimiter)` that joins a list of strings with the given delimiter and returns it as a single string. Implement this without using Python's built-in `join()` function.  \n",
    "   Example:\n",
    "   \n",
    "   - Input: `[\"hello\", \"world\", \"message\"]`, `\" +++ \"`\n",
    "   - Result: `\"hello +++ world +++ message\"`"
   ]
  },
  {
   "cell_type": "code",
   "execution_count": 40,
   "metadata": {},
   "outputs": [
    {
     "name": "stdout",
     "output_type": "stream",
     "text": [
      "Joined string: hello +++ world +++ message\n"
     ]
    }
   ],
   "source": [
    "#function join(values, delimiter) that joins a list of strings with the given delimiter and returns it as a single string\n",
    "def join(values, delimiter):\n",
    "    if not items:\n",
    "        return \"\"\n",
    "    \n",
    "    output = items[0]\n",
    "    for index in range(1, len(values)):\n",
    "        output += separator + values[index]\n",
    "    \n",
    "    return output\n",
    "\n",
    "# Example usage\n",
    "values = [\"hello\", \"world\", \"message\"]\n",
    "delimeter = \" +++ \"\n",
    "\n",
    "print(f\"Joined string: {join(values, delimeter)}\")"
   ]
  },
  {
   "cell_type": "markdown",
   "metadata": {
    "id": "53N3iK03l1e2"
   },
   "source": [
    "8. **Pascal's Triangle**  \n",
    "   Write a function `pascal(n)` that computes Pascal’s triangle as nested lists. Each line is generated from the previous one, with sums of adjacent numbers and a 1 at the beginning and end.  \n",
    "   Example for `n=5`:\n",
    "   \n",
    "   ```\n",
    "   [1]\n",
    "   [1, 1]\n",
    "   [1, 2, 1]\n",
    "   [1, 3, 3, 1]\n",
    "   [1, 4, 6, 4, 1]\n",
    "   ```"
   ]
  },
  {
   "cell_type": "markdown",
   "metadata": {
    "id": "53N3iK03l1e2"
   },
   "source": [
    "9. **Contains All Values**  \n",
    "   Write a function `contains_all(values, search_values)` that checks if all search values are present in the given list. Do not use Python's `all()` function.  \n",
    "   Examples:\n",
    "   \n",
    "   | Input                         | Search Values | Result |\n",
    "   |-------------------------------|---------------|--------|\n",
    "   | `[0, 1, 2, 3, 4, 5, 6, 7, 8, 9]` | `[7, 2]`      | True   |\n",
    "   | `[0, 1, 2, 3, 4, 5, 6, 7, 8, 9]` | `[5, 11]`     | False  |"
   ]
  },
  {
   "cell_type": "markdown",
   "metadata": {
    "id": "53N3iK03l1e2"
   },
   "source": [
    "10. **Optimized Insertion Sort**  \n",
    "    Rewrite the insertion sort algorithm to perform the sorting in one pass by finding the correct insertion point and swapping elements. Write an optimized version of `insertion_sort(values)`.  \n",
    "    Example:\n",
    "    \n",
    "    - Input: `[7, 2, 5, 1, 6, 8, 9, 4, 3]`\n",
    "    - Result: `[1, 2, 3, 4, 5, 6, 7, 8, 9]`\n",
    "    \n",
    "    \n",
    "    \n",
    "    \n",
    "    \n",
    "    \n",
    "    \n",
    "Here are the problems with the corresponding Wikipedia links for reference:"
   ]
  },
  {
   "cell_type": "markdown",
   "metadata": {
    "id": "53N3iK03l1e2"
   },
   "source": []
  },
  {
   "cell_type": "markdown",
   "metadata": {
    "id": "53N3iK03l1e2"
   },
   "source": [
    "11. **Sudoku Solver**  \n",
    "    Write a function `solve_sudoku(board)` that solves a given 9x9 Sudoku puzzle using backtracking. The puzzle is represented as a 2D list with '0' indicating empty cells. The function should modify the board in-place and return `True` if the puzzle is solved, otherwise `False`.  \n",
    "   ''' [Sudoku - Wikipedia](https://en.wikipedia.org/wiki/Sudoku)  \n",
    "    Example Input:\n",
    "    ```python\n",
    "    board = [\n",
    "        [5, 3, 0, 0, 7, 0, 0, 0, 0],\n",
    "        [6, 0, 0, 1, 9, 5, 0, 0, 0],\n",
    "        [0, 9, 8, 0, 0, 0, 0, 6, 0],\n",
    "        [8, 0, 0, 0, 6, 0, 0, 0, 3],\n",
    "        [4, 0, 0, 8, 0, 3, 0, 0, 1],\n",
    "        [7, 0, 0, 0, 2, 0, 0, 0, 6],\n",
    "        [0, 6, 0, 0, 0, 0, 2, 8, 0],\n",
    "        [0, 0, 0, 4, 1, 9, 0, 0, 5],\n",
    "        [0, 0, 0, 0, 8, 0, 0, 7, 9]\n",
    "    ]\n",
    "    ```\n",
    "    Example Output:\n",
    "    ```python\n",
    "    board = [\n",
    "        [5, 3, 4, 6, 7, 8, 9, 1, 2],\n",
    "        [6, 7, 2, 1, 9, 5, 3, 4, 8],\n",
    "        [1, 9, 8, 3, 4, 2, 5, 6, 7],\n",
    "        [8, 5, 9, 7, 6, 1, 4, 2, 3],\n",
    "        [4, 2, 6, 8, 5, 3, 7, 9, 1],\n",
    "        [7, 1, 3, 9, 2, 4, 8, 5, 6],\n",
    "        [9, 6, 1, 5, 3, 7, 2, 8, 4],\n",
    "        [2, 8, 7, 4, 1, 9, 6, 3, 5],\n",
    "        [3, 4, 5, 2, 8, 6, 1, 7, 9]\n",
    "    ]\n",
    "    ```"
   ]
  },
  {
   "cell_type": "markdown",
   "metadata": {
    "id": "53N3iK03l1e2"
   },
   "source": [
    "12. **N-Queens Problem**  \n",
    "    Write a function `solve_n_queens(n)` to find all possible solutions for the n-queens problem. The function should return all distinct solutions as a list of lists, where each list represents the position of queens on the board. The board should be represented as a list of strings, where 'Q' and '.' indicate a queen and an empty space, respectively.  \n",
    "    [N-Queens - Wikipedia](https://en.wikipedia.org/wiki/Eight_queens_puzzle)  \n",
    "    Example Input:  \n",
    "    `n = 4`  \n",
    "    Example Output:\n",
    "    ```python\n",
    "    [\n",
    "        [\".Q..\",\n",
    "         \"...Q\",\n",
    "         \"Q...\",\n",
    "         \"..Q.\"],\n",
    "    \n",
    "        [\"..Q.\",\n",
    "         \"Q...\",\n",
    "         \"...Q\",\n",
    "         \".Q..\"]\n",
    "    ]\n",
    "    ```"
   ]
  },
  {
   "cell_type": "markdown",
   "metadata": {
    "id": "53N3iK03l1e2"
   },
   "source": [
    "13. **Knapsack Problem (Dynamic Programming)**  \n",
    "    Implement a function `knapsack(weights, values, capacity)` that solves the 0/1 Knapsack problem using dynamic programming. Given a list of weights and corresponding values of `n` items, determine the maximum value that can be obtained by selecting items with a total weight not exceeding a given capacity.  \n",
    "    [Knapsack Problem - Wikipedia](https://en.wikipedia.org/wiki/Knapsack_problem)  \n",
    "    Example Input:\n",
    "    ```python\n",
    "    weights = [2, 3, 4, 5]\n",
    "    values = [3, 4, 5, 6]\n",
    "    capacity = 5\n",
    "    ```\n",
    "    Example Output:  \n",
    "    `7` (items with weights 2 and 3 are selected, values are 3 and 4)"
   ]
  },
  {
   "cell_type": "markdown",
   "metadata": {
    "id": "53N3iK03l1e2"
   },
   "source": [
    "14. **Travelling Salesman Problem (TSP)**  \n",
    "    Write a function `tsp(graph)` to solve the Travelling Salesman Problem (TSP) using dynamic programming with bit masking. Given a graph represented as an adjacency matrix, find the shortest possible route that visits each city exactly once and returns to the origin city.  \n",
    "    [Travelling Salesman Problem - Wikipedia](https://en.wikipedia.org/wiki/Travelling_salesman_problem)  \n",
    "    Example Input:\n",
    "    ```python\n",
    "    graph = [\n",
    "        [0, 10, 15, 20],\n",
    "        [10, 0, 35, 25],\n",
    "        [15, 35, 0, 30],\n",
    "        [20, 25, 30, 0]\n",
    "    ]\n",
    "    ```\n",
    "    Example Output:  \n",
    "    `80` (minimum cost path: 0 → 1 → 3 → 2 → 0)"
   ]
  },
  {
   "cell_type": "markdown",
   "metadata": {
    "id": "53N3iK03l1e2"
   },
   "source": [
    "15. **Word Break Problem (Dynamic Programming)**  \n",
    "    Given a string `s` and a dictionary of words `dict`, write a function `word_break(s, dict)` to determine if `s` can be segmented into a space-separated sequence of one or more dictionary words. Return all such possible sentences.  \n",
    "    [Word Break Problem - Wikipedia](https://en.wikipedia.org/wiki/Word_break_problem)  \n",
    "    Example Input:\n",
    "    ```python\n",
    "    s = \"catsanddog\"\n",
    "    dict = [\"cat\", \"cats\", \"and\", \"sand\", \"dog\"]\n",
    "    ```\n",
    "    Example Output:\n",
    "    ```python\n",
    "    [\"cats and dog\", \"cat sand dog\"]\n",
    "    ```\n",
    "    Example Input:\n",
    "    ```python\n",
    "    s = \"pineapplepenapple\"\n",
    "    dict = [\"apple\", \"pen\", \"applepen\", \"pine\", \"pineapple\"]\n",
    "    ```\n",
    "    Example Output:\n",
    "    ```python\n",
    "    [\"pine apple pen apple\", \"pineapple pen apple\", \"pine applepen apple\"]\n",
    "    ```"
   ]
  }
 ],
 "metadata": {
  "colab": {
   "provenance": []
  },
  "kernelspec": {
   "display_name": "Python 3 (ipykernel)",
   "language": "python",
   "name": "python3"
  },
  "language_info": {
   "codemirror_mode": {
    "name": "ipython",
    "version": 3
   },
   "file_extension": ".py",
   "mimetype": "text/x-python",
   "name": "python",
   "nbconvert_exporter": "python",
   "pygments_lexer": "ipython3",
   "version": "3.12.4"
  }
 },
 "nbformat": 4,
 "nbformat_minor": 4
}
