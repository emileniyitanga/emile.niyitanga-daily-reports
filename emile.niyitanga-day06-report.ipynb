{
 "cells": [
  {
   "cell_type": "markdown",
   "id": "e5ded1ba-c0f8-4e9b-a754-7c94ed3f688d",
   "metadata": {},
   "source": [
    "# 1. Compute the following expressions for a natural number n chosen by the user:"
   ]
  },
  {
   "cell_type": "code",
   "execution_count": 57,
   "id": "61984060-4495-460d-a2c3-8dab9d4bbbd3",
   "metadata": {},
   "outputs": [
    {
     "name": "stdin",
     "output_type": "stream",
     "text": [
      "Enter a natural number n:  5\n"
     ]
    },
    {
     "name": "stdout",
     "output_type": "stream",
     "text": [
      "0\n",
      "1\n",
      "4\n",
      "2\n",
      "3\n",
      "10\n",
      "4\n"
     ]
    }
   ],
   "source": [
    "n = int(input(\"Enter a natural number n: \"))\n",
    "suma = 0\n",
    "for i in range (n):\n",
    "     print(i)\n",
    "     if i % 2 != 0:\n",
    "         suma += (i + 3)\n",
    "         print(suma)\n",
    "         \n",
    "   \n",
    "  \n",
    "   \n",
    "\n"
   ]
  },
  {
   "cell_type": "code",
   "execution_count": 59,
   "id": "dc1ac017-5748-4e24-af9b-1825343746f4",
   "metadata": {},
   "outputs": [
    {
     "name": "stdin",
     "output_type": "stream",
     "text": [
      "Enter a natural number n:  5\n"
     ]
    },
    {
     "name": "stdout",
     "output_type": "stream",
     "text": [
      "0\n",
      "0\n",
      "1\n",
      "2\n",
      "0\n",
      "3\n",
      "4\n",
      "0\n"
     ]
    }
   ],
   "source": [
    "n = int(input(\"Enter a natural number n: \"))\n",
    "suma = 0\n",
    "for i in range (n):\n",
    "     print(i)\n",
    "     if i % 2 == 0:\n",
    "         suma *= (i + 3)\n",
    "         print(suma)\n",
    "         \n",
    "   "
   ]
  },
  {
   "cell_type": "markdown",
   "id": "638978e9-b5f9-42ee-9dcc-6cbd264111f8",
   "metadata": {},
   "source": [
    "# 2. Write a program that reads the number of the day of the week (from 0 to 6). If it is a working day, then the program will write the name of the corresponding day. Otherwise,it will write the word \"Weekend\"."
   ]
  },
  {
   "cell_type": "code",
   "execution_count": 1,
   "id": "b5446999-1c6a-4fbc-a047-45c7ac1e5a63",
   "metadata": {},
   "outputs": [
    {
     "name": "stdin",
     "output_type": "stream",
     "text": [
      "Enter n in (0 6):  4\n"
     ]
    },
    {
     "name": "stdout",
     "output_type": "stream",
     "text": [
      "Thursday: It is a working day\n"
     ]
    }
   ],
   "source": [
    "dow= int(input(\"Enter n in (0 6): \"))\n",
    "if dow == 0:\n",
    "    print('Sunday: It is a weekend')\n",
    "elif dow == 1:\n",
    "    print('Monday: It is a working day')\n",
    "elif dow == 2:\n",
    "    print('Tuesday: It is a working day')\n",
    "elif dow == 3:\n",
    "    print('Wednesday: It is a working day')\n",
    "elif dow == 4: \n",
    "    print('Thursday: It is a working day')\n",
    "elif dow == 5:\n",
    "    print('Friday: It is a working day')\n",
    "elif dow == 6:\n",
    "    print('Saturday: It is a working day')\n",
    "else:\n",
    "    print('The day  does not exist')"
   ]
  },
  {
   "cell_type": "code",
   "execution_count": 3,
   "id": "a2e56618-0e4a-4155-852e-1419e3753a76",
   "metadata": {},
   "outputs": [
    {
     "name": "stdin",
     "output_type": "stream",
     "text": [
      "Enter the month:  3\n"
     ]
    },
    {
     "name": "stdout",
     "output_type": "stream",
     "text": [
      "The month has 30 days has \n"
     ]
    }
   ],
   "source": [
    "Month=[0,1,2,3,4,5,6,7,8,9,10,11]\n",
    "n = int(input(\"Enter the month: \"))\n",
    "if n in [0,2,4,6,7,9,11]:\n",
    "    print('The month has 31 days')\n",
    "elif n  in [3,5,8,10]:\n",
    "    print('The month has 30 days has ')\n",
    "elif n ==  1:\n",
    "    print('The month has 28 days ')\n",
    "else:\n",
    "    print('No informantion' )\n",
    "\n",
    "\n"
   ]
  },
  {
   "cell_type": "code",
   "execution_count": 5,
   "id": "f64e9ca5-e4d7-4853-97c9-2ab4a605fdfc",
   "metadata": {},
   "outputs": [
    {
     "name": "stdin",
     "output_type": "stream",
     "text": [
      "Enter the name:  Emile\n"
     ]
    },
    {
     "name": "stdout",
     "output_type": "stream",
     "text": [
      "Emile\n",
      "Emile\n",
      "Emile\n"
     ]
    }
   ],
   "source": [
    "My_name = input('Enter the name: ')\n",
    "for i in range(3):\n",
    "    print(My_name)"
   ]
  },
  {
   "cell_type": "code",
   "execution_count": 3,
   "id": "c5c15c9e-4257-47b0-9ecc-826e983d8e49",
   "metadata": {},
   "outputs": [
    {
     "name": "stdin",
     "output_type": "stream",
     "text": [
      "Enter the name:  Emile\n"
     ]
    },
    {
     "name": "stdout",
     "output_type": "stream",
     "text": [
      "Emile\n",
      "Emile\n",
      "Emile\n"
     ]
    }
   ],
   "source": [
    "My_name = input('Enter the name: ')\n",
    "i=0\n",
    "while i in range(3):\n",
    "    if(i<3):\n",
    "     print(My_name)\n",
    "    i = i+ 1"
   ]
  },
  {
   "cell_type": "code",
   "execution_count": 7,
   "id": "50625abb-b4b4-4167-a538-445b1e3be306",
   "metadata": {},
   "outputs": [
    {
     "name": "stdin",
     "output_type": "stream",
     "text": [
      "Enter n1:  2\n",
      "Enter n2:  5\n"
     ]
    },
    {
     "name": "stdout",
     "output_type": "stream",
     "text": [
      "2\n",
      "5\n",
      "7\n",
      "12\n",
      "19\n",
      "31\n",
      "50\n",
      "81\n",
      "131\n",
      "212\n",
      "343\n",
      "555\n",
      "898\n",
      "1453\n",
      "2351\n"
     ]
    }
   ],
   "source": [
    "num1 = int(input(\"Enter n1: \"))\n",
    "num2 = int(input(\"Enter n2: \"))\n",
    "print(num1)\n",
    "print(num2)\n",
    "for i in range (2,15):\n",
    "    num3 = num1 + num2\n",
    "    num1 = num2\n",
    "    num2 = num3\n",
    "    print(num2)\n",
    "    "
   ]
  },
  {
   "cell_type": "code",
   "execution_count": 11,
   "id": "4875df24-d1a9-4282-a337-df450ac25c7e",
   "metadata": {},
   "outputs": [
    {
     "name": "stdin",
     "output_type": "stream",
     "text": [
      "Enter n1:  3\n",
      "Enter n2:  2\n"
     ]
    },
    {
     "name": "stdout",
     "output_type": "stream",
     "text": [
      "3\n",
      "2\n",
      "10.0\n",
      "11.0\n",
      "35.5\n",
      "50.75\n",
      "131.875\n",
      "218.1875\n",
      "504.71875\n",
      "906.921875\n",
      "1967.6171875\n",
      "3704.57421875\n",
      "7755.138671875\n",
      "14991.2919921875\n",
      "30761.06201171875\n",
      "60354.406982421875\n",
      "122460.38952636719\n",
      "242293.41571044922\n",
      "488527.8764343262\n",
      "971144.1853485107\n",
      "1951155.721977234\n",
      "3889010.417034149\n",
      "7797972.374448776\n",
      "15566017.438326836\n",
      "31176925.842509747\n",
      "62286515.23623538\n",
      "124674035.14564693\n",
      "249196563.2815296\n",
      "498620387.0777056\n",
      "996899883.3834416\n"
     ]
    }
   ],
   "source": [
    "num1 = int(input(\"Enter n1: \"))\n",
    "num2 = int(input(\"Enter n2: \"))\n",
    "print(num1)\n",
    "print(num2)\n",
    "for i in range (2,30):\n",
    "    num3 = 3*num1 + 0.5*num2\n",
    "    num1 = num2\n",
    "    num2 = num3\n",
    "    print(num2)"
   ]
  },
  {
   "cell_type": "code",
   "execution_count": 44,
   "id": "cf9d6e12-1e92-4681-88ee-854fd01be73b",
   "metadata": {},
   "outputs": [
    {
     "name": "stdin",
     "output_type": "stream",
     "text": [
      "Enter a year:  2024\n"
     ]
    },
    {
     "name": "stdout",
     "output_type": "stream",
     "text": [
      "2024 is a leap year.\n"
     ]
    }
   ],
   "source": [
    "YEAR=int(input(\"Enter a year: \"))\n",
    "if is_leap_year(YEAR):\n",
    "    print( YEAR, \"is a leap year.\")\n",
    "else:\n",
    "    print(YEAR, \"is not a leap year.\")\n"
   ]
  },
  {
   "cell_type": "code",
   "execution_count": 42,
   "id": "b4491dce-c74d-41db-b3a0-da2aecbbee0f",
   "metadata": {},
   "outputs": [
    {
     "name": "stdin",
     "output_type": "stream",
     "text": [
      "Enter a natural number n:  5\n"
     ]
    },
    {
     "name": "stdout",
     "output_type": "stream",
     "text": [
      "1\n",
      "5\n",
      "14\n",
      "30\n",
      "55\n"
     ]
    }
   ],
   "source": [
    "n = int(input(\"Enter a natural number n: \"))\n",
    "sos = 0\n",
    "for i in range(1, n + 1):\n",
    "       sos += i ** 2\n",
    "       print(sos)\n",
    "   "
   ]
  },
  {
   "cell_type": "code",
   "execution_count": null,
   "id": "4d274942-760b-4338-88e4-f0962db351e7",
   "metadata": {},
   "outputs": [],
   "source": [
    "\n",
    "\n",
    "n = int(input(\"Enter a natural number n: \"))\n",
    "sos = 0\n",
    "    i = 1\n",
    "    while i <= n:\n",
    "        sos += i ** 2\n",
    "        i += 1"
   ]
  },
  {
   "cell_type": "code",
   "execution_count": null,
   "id": "f9404e89-9765-4e43-b8da-6c87f6ec6612",
   "metadata": {},
   "outputs": [],
   "source": []
  }
 ],
 "metadata": {
  "kernelspec": {
   "display_name": "Python 3 (ipykernel)",
   "language": "python",
   "name": "python3"
  },
  "language_info": {
   "codemirror_mode": {
    "name": "ipython",
    "version": 3
   },
   "file_extension": ".py",
   "mimetype": "text/x-python",
   "name": "python",
   "nbconvert_exporter": "python",
   "pygments_lexer": "ipython3",
   "version": "3.12.4"
  }
 },
 "nbformat": 4,
 "nbformat_minor": 5
}
