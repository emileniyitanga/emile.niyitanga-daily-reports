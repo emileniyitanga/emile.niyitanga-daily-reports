{
 "cells": [
  {
   "cell_type": "markdown",
   "id": "946dcae8",
   "metadata": {},
   "source": [
    "# Practical_6: Numpy"
   ]
  },
  {
   "cell_type": "markdown",
   "id": "4171b3e4-37e0-47a4-aa8f-d0d275f31c39",
   "metadata": {},
   "source": [
    "---\n",
    "\n",
    "### Exercise 1:\n",
    "Create a NumPy array of integers from 1 to 10.\n",
    "\n",
    "```python\n",
    "# Exercise 1\n",
    "```"
   ]
  },
  {
   "cell_type": "code",
   "execution_count": 22,
   "id": "42905ed0-b032-4f47-81d2-6a13c59265e3",
   "metadata": {},
   "outputs": [
    {
     "name": "stdout",
     "output_type": "stream",
     "text": [
      "[ 1  2  3  4  5  6  7  8  9 10]\n"
     ]
    }
   ],
   "source": [
    "import numpy as np\n",
    "r = np.arange(1,11) \n",
    "print(r)"
   ]
  },
  {
   "cell_type": "markdown",
   "id": "dd89411d-7f3e-46d4-9720-8c8af0bd109c",
   "metadata": {},
   "source": [
    "---\n",
    "\n",
    "### Exercise 2:\n",
    "Create a 3x3 NumPy array filled with zeros.\n",
    "\n",
    "```python\n",
    "# Exercise 2\n",
    "```"
   ]
  },
  {
   "cell_type": "code",
   "execution_count": 20,
   "id": "44b5fc52-be62-48e9-9026-e87adb273d7e",
   "metadata": {},
   "outputs": [
    {
     "name": "stdout",
     "output_type": "stream",
     "text": [
      "[[0. 0. 0.]\n",
      " [0. 0. 0.]\n",
      " [0. 0. 0.]]\n"
     ]
    }
   ],
   "source": [
    "a = np.zeros((3,3))  \n",
    "print(a)  "
   ]
  },
  {
   "cell_type": "code",
   "execution_count": 24,
   "id": "37a87bcf-0df3-47b6-979e-7b2a85e4c355",
   "metadata": {},
   "outputs": [
    {
     "name": "stdout",
     "output_type": "stream",
     "text": [
      "[[0 0 0]\n",
      " [0 0 0]\n",
      " [0 0 0]]\n"
     ]
    }
   ],
   "source": [
    "a = np.zeros((3,3),dtype=int)  \n",
    "print(a)  "
   ]
  },
  {
   "cell_type": "code",
   "execution_count": 26,
   "id": "1f3db06e-54bf-4e74-9fa9-9b4bbdb3ce18",
   "metadata": {},
   "outputs": [
    {
     "data": {
      "text/plain": [
       "dtype('int32')"
      ]
     },
     "execution_count": 26,
     "metadata": {},
     "output_type": "execute_result"
    }
   ],
   "source": [
    "r.dtype"
   ]
  },
  {
   "cell_type": "markdown",
   "id": "ac65ad42-8e76-48c6-9c1e-51a4ddc47dfd",
   "metadata": {},
   "source": [
    "---\n",
    "\n",
    "### Exercise 3:\n",
    "Create a NumPy array of 10 evenly spaced numbers between 0 and 5.\n",
    "\n",
    "```python\n",
    "# Exercise 3\n",
    "```"
   ]
  },
  {
   "cell_type": "code",
   "execution_count": 30,
   "id": "7657723a-4d2d-4f08-aca2-72f70f5dddea",
   "metadata": {},
   "outputs": [
    {
     "name": "stdout",
     "output_type": "stream",
     "text": [
      "[0.         0.55555556 1.11111111 1.66666667 2.22222222 2.77777778\n",
      " 3.33333333 3.88888889 4.44444444 5.        ]\n"
     ]
    }
   ],
   "source": [
    "A = np.linspace(0,5,10)\n",
    "print(A)"
   ]
  },
  {
   "cell_type": "code",
   "execution_count": 32,
   "id": "eee078c0-3692-4e2c-ad2c-6186e4f44477",
   "metadata": {},
   "outputs": [
    {
     "name": "stdout",
     "output_type": "stream",
     "text": [
      "[0.  0.5 1.  1.5 2.  2.5 3.  3.5 4.  4.5]\n"
     ]
    }
   ],
   "source": [
    "A = np.linspace(0,5,10,endpoint=False)\n",
    "print(A)"
   ]
  },
  {
   "cell_type": "markdown",
   "id": "49fa8d76-a33a-464b-a4c1-9de77c76e23a",
   "metadata": {},
   "source": [
    "---\n",
    "\n",
    "### Exercise 4:\n",
    "Create a 5x5 identity matrix using NumPy.\n",
    "\n",
    "```python\n",
    "# Exercise 4\n",
    "```"
   ]
  },
  {
   "cell_type": "code",
   "execution_count": 36,
   "id": "d614ae2e-80c6-4423-85fe-2fdfe76200d8",
   "metadata": {},
   "outputs": [
    {
     "name": "stdout",
     "output_type": "stream",
     "text": [
      "[[1 0 0 0 0]\n",
      " [0 1 0 0 0]\n",
      " [0 0 1 0 0]\n",
      " [0 0 0 1 0]\n",
      " [0 0 0 0 1]]\n"
     ]
    }
   ],
   "source": [
    "A=np.eye((5), dtype=int)\n",
    "print(A)"
   ]
  },
  {
   "cell_type": "markdown",
   "id": "aa51b90d-39e8-4a2c-81c4-9313bb11cc86",
   "metadata": {},
   "source": [
    "---\n",
    "\n",
    "### Exercise 5:\n",
    "Create a 4x4 matrix with random values between 0 and 1.\n",
    "\n",
    "```python\n",
    "# Exercise 5\n",
    "```"
   ]
  },
  {
   "cell_type": "code",
   "execution_count": 40,
   "id": "00de68e8-1fa0-4987-9f05-40d4df458c8c",
   "metadata": {
    "scrolled": true
   },
   "outputs": [
    {
     "name": "stdout",
     "output_type": "stream",
     "text": [
      "[[0.20445168 0.58365572 0.70694741 0.17440213]\n",
      " [0.0563876  0.12712635 0.25469875 0.14362482]\n",
      " [0.94864193 0.19769739 0.20120273 0.55891701]\n",
      " [0.57395133 0.99995747 0.49333003 0.50367553]]\n"
     ]
    }
   ],
   "source": [
    "A= np.random.rand(4,4)\n",
    "print(A)"
   ]
  },
  {
   "cell_type": "code",
   "execution_count": 46,
   "id": "bb47dfee-af4d-497b-8ae4-1214347a8a31",
   "metadata": {},
   "outputs": [
    {
     "name": "stdout",
     "output_type": "stream",
     "text": [
      "[[0.54888802 0.907741   0.93362478 0.61612818]\n",
      " [0.66458629 0.33362814 0.2113342  0.42997993]\n",
      " [0.9674726  0.90997908 0.73817788 0.62826219]\n",
      " [0.31595835 0.22015634 0.19971592 0.19691108]]\n"
     ]
    }
   ],
   "source": [
    "A= np.random.random((4,4))\n",
    "print(A)"
   ]
  },
  {
   "cell_type": "code",
   "execution_count": 66,
   "id": "b1f969ca-2f30-4747-8977-7c81571e2ee9",
   "metadata": {},
   "outputs": [],
   "source": [
    "np.random.seed(10)"
   ]
  },
  {
   "cell_type": "code",
   "execution_count": 68,
   "id": "ced9edce-1587-4979-be71-5df099d53275",
   "metadata": {
    "scrolled": true
   },
   "outputs": [
    {
     "name": "stdout",
     "output_type": "stream",
     "text": [
      "[[0.77132064 0.02075195 0.63364823 0.74880388]\n",
      " [0.49850701 0.22479665 0.19806286 0.76053071]\n",
      " [0.16911084 0.08833981 0.68535982 0.95339335]\n",
      " [0.00394827 0.51219226 0.81262096 0.61252607]]\n"
     ]
    }
   ],
   "source": [
    "A= np.random.rand(4,4)\n",
    "print(A)"
   ]
  },
  {
   "cell_type": "code",
   "execution_count": 72,
   "id": "2dc81d65-6531-453b-8382-1c9d6f010c10",
   "metadata": {},
   "outputs": [
    {
     "name": "stdout",
     "output_type": "stream",
     "text": [
      "[[0.5488135  0.71518937 0.60276338 0.54488318]\n",
      " [0.4236548  0.64589411 0.43758721 0.891773  ]\n",
      " [0.96366276 0.38344152 0.79172504 0.52889492]\n",
      " [0.56804456 0.92559664 0.07103606 0.0871293 ]]\n"
     ]
    }
   ],
   "source": [
    "A= np.random.rand(4,4)\n",
    "print(A)"
   ]
  },
  {
   "cell_type": "code",
   "execution_count": 70,
   "id": "d550e01c-4350-46f5-8596-c5b37ae25eb4",
   "metadata": {},
   "outputs": [],
   "source": [
    "np.random.seed(0)"
   ]
  },
  {
   "cell_type": "markdown",
   "id": "3758dbe2-bdfd-45e5-a3b7-9a5d7262976c",
   "metadata": {},
   "source": [
    "---\n",
    "\n",
    "### Exercise 6:\n",
    "Find the shape of a NumPy array.\n",
    "\n",
    "```python\n",
    "# Exercise 6\n",
    "```"
   ]
  },
  {
   "cell_type": "code",
   "execution_count": 86,
   "id": "f464e089-8792-4d1e-ba7d-75fc5640e3c7",
   "metadata": {},
   "outputs": [
    {
     "data": {
      "text/plain": [
       "(4, 4)"
      ]
     },
     "execution_count": 86,
     "metadata": {},
     "output_type": "execute_result"
    }
   ],
   "source": [
    "A.shape"
   ]
  },
  {
   "cell_type": "markdown",
   "id": "0bd75688-b358-4342-88cc-043ae00f57b3",
   "metadata": {},
   "source": [
    "---\n",
    "\n",
    "### Exercise 7:\n",
    "Reshape a 1D NumPy array of 16 elements into a 4x4 matrix.\n",
    "\n",
    "```python\n",
    "# Exercise 7\n",
    "```"
   ]
  },
  {
   "cell_type": "code",
   "execution_count": 90,
   "id": "5264d36f-26b5-4139-859a-209f77b49e7f",
   "metadata": {},
   "outputs": [
    {
     "name": "stdout",
     "output_type": "stream",
     "text": [
      "[[0.5488135  0.71518937 0.60276338 0.54488318]\n",
      " [0.4236548  0.64589411 0.43758721 0.891773  ]\n",
      " [0.96366276 0.38344152 0.79172504 0.52889492]\n",
      " [0.56804456 0.92559664 0.07103606 0.0871293 ]]\n"
     ]
    }
   ],
   "source": [
    "A.reshape((4,4))\n",
    "print(A)"
   ]
  },
  {
   "cell_type": "markdown",
   "id": "7692c393-b262-4f76-9424-4ed2fc3608e8",
   "metadata": {},
   "source": [
    "---\n",
    "\n",
    "### Exercise 8:\n",
    "Find the data type of the elements in a NumPy array.\n",
    "\n",
    "```python\n",
    "# Exercise 8\n",
    "```"
   ]
  },
  {
   "cell_type": "code",
   "execution_count": 92,
   "id": "f7d7a988-8336-476f-b4cf-8e0940257f0e",
   "metadata": {},
   "outputs": [
    {
     "data": {
      "text/plain": [
       "dtype('float64')"
      ]
     },
     "execution_count": 92,
     "metadata": {},
     "output_type": "execute_result"
    }
   ],
   "source": [
    "A.dtype"
   ]
  },
  {
   "cell_type": "markdown",
   "id": "1c73a6b9-ac9d-4727-a0a8-0e977b471df6",
   "metadata": {},
   "source": [
    "---\n",
    "\n",
    "### Exercise 9:\n",
    "Create a NumPy array of integers from 1 to 100 and find all even numbers in the array.\n",
    "\n",
    "```python\n",
    "# Exercise 9\n",
    "```"
   ]
  },
  {
   "cell_type": "code",
   "execution_count": 104,
   "id": "c4779397-b490-451c-8d45-5c678d65f32a",
   "metadata": {},
   "outputs": [
    {
     "name": "stdout",
     "output_type": "stream",
     "text": [
      " \n",
      "2\n",
      " \n",
      "4\n",
      " \n",
      "6\n",
      " \n",
      "8\n",
      " \n",
      "10\n",
      " \n",
      "12\n",
      " \n",
      "14\n",
      " \n",
      "16\n",
      " \n",
      "18\n",
      " \n",
      "20\n",
      " \n",
      "22\n",
      " \n",
      "24\n",
      " \n",
      "26\n",
      " \n",
      "28\n",
      " \n",
      "30\n",
      " \n",
      "32\n",
      " \n",
      "34\n",
      " \n",
      "36\n",
      " \n",
      "38\n",
      " \n",
      "40\n",
      " \n",
      "42\n",
      " \n",
      "44\n",
      " \n",
      "46\n",
      " \n",
      "48\n",
      " \n",
      "50\n",
      " \n",
      "52\n",
      " \n",
      "54\n",
      " \n",
      "56\n",
      " \n",
      "58\n",
      " \n",
      "60\n",
      " \n",
      "62\n",
      " \n",
      "64\n",
      " \n",
      "66\n",
      " \n",
      "68\n",
      " \n",
      "70\n",
      " \n",
      "72\n",
      " \n",
      "74\n",
      " \n",
      "76\n",
      " \n",
      "78\n",
      " \n",
      "80\n",
      " \n",
      "82\n",
      " \n",
      "84\n",
      " \n",
      "86\n",
      " \n",
      "88\n",
      " \n",
      "90\n",
      " \n",
      "92\n",
      " \n",
      "94\n",
      " \n",
      "96\n",
      " \n",
      "98\n",
      " \n",
      "100\n"
     ]
    }
   ],
   "source": [
    "A=np.arange(1,101)\n",
    "for i in A:\n",
    "    if i %  2 == 0:\n",
    "        print(i)\n",
    "    else:\n",
    "        print(\" \")\n"
   ]
  },
  {
   "cell_type": "code",
   "execution_count": 106,
   "id": "ecbc53a9-c9d7-41e9-9b7d-410c691a3b88",
   "metadata": {},
   "outputs": [
    {
     "name": "stdout",
     "output_type": "stream",
     "text": [
      "[  2   4   6   8  10  12  14  16  18  20  22  24  26  28  30  32  34  36\n",
      "  38  40  42  44  46  48  50  52  54  56  58  60  62  64  66  68  70  72\n",
      "  74  76  78  80  82  84  86  88  90  92  94  96  98 100]\n"
     ]
    }
   ],
   "source": [
    "A= np.arange(2,101,2)\n",
    "print(A)\n"
   ]
  },
  {
   "cell_type": "code",
   "execution_count": null,
   "id": "60dbd0a3-be3e-43a5-ba03-da758c5ddf26",
   "metadata": {},
   "outputs": [],
   "source": []
  },
  {
   "cell_type": "markdown",
   "id": "d6e574de-2bf7-45bb-9c28-489a7962c7a6",
   "metadata": {},
   "source": [
    "---\n",
    "\n",
    "### Exercise 10:\n",
    "Generate a 6x6 matrix of random integers between 10 and 50.\n",
    "\n",
    "```python\n",
    "# Exercise 10\n",
    "```"
   ]
  },
  {
   "cell_type": "code",
   "execution_count": 120,
   "id": "5ef36974-d4d8-4aaf-9724-a9f4ae3a46ba",
   "metadata": {},
   "outputs": [
    {
     "name": "stdout",
     "output_type": "stream",
     "text": [
      "[[0.0202184  0.83261985 0.77815675 0.87001215 0.97861834 0.79915856]\n",
      " [0.46147936 0.78052918 0.11827443 0.63992102 0.14335329 0.94466892]\n",
      " [0.52184832 0.41466194 0.26455561 0.77423369 0.45615033 0.56843395]\n",
      " [0.0187898  0.6176355  0.61209572 0.616934   0.94374808 0.6818203 ]\n",
      " [0.3595079  0.43703195 0.6976312  0.06022547 0.66676672 0.67063787]\n",
      " [0.21038256 0.1289263  0.31542835 0.36371077 0.57019677 0.43860151]]\n"
     ]
    }
   ],
   "source": [
    "A= np.random.rand(6,6)\n",
    "print(A)"
   ]
  },
  {
   "cell_type": "markdown",
   "id": "a4481a8d-221d-4d99-9180-47b6cce00b09",
   "metadata": {},
   "source": [
    "---\n",
    "\n",
    "### Exercise 11:\n",
    "Slice a 2D NumPy array to extract a submatrix.\n",
    "\n",
    "```python\n",
    "# Exercise 11\n",
    "```\n",
    "\n",
    "---"
   ]
  },
  {
   "cell_type": "code",
   "execution_count": 218,
   "id": "0efbc21b-2054-405a-8588-728d7eb24a36",
   "metadata": {},
   "outputs": [
    {
     "name": "stdout",
     "output_type": "stream",
     "text": [
      "[[1 2]\n",
      " [3 4]]\n",
      "(2, 2)\n"
     ]
    }
   ],
   "source": [
    "A = np.array([[1,2], [3,4]])\n",
    "print(A)\n",
    "print(A.shape)"
   ]
  },
  {
   "cell_type": "code",
   "execution_count": 137,
   "id": "6ce9110e-49fc-43e8-996f-aa93013ea330",
   "metadata": {},
   "outputs": [
    {
     "name": "stdout",
     "output_type": "stream",
     "text": [
      "[[2]]\n"
     ]
    }
   ],
   "source": [
    "print(A[:1,1:2])"
   ]
  },
  {
   "cell_type": "markdown",
   "id": "5b83b9dd-cbb5-4d87-8926-6bb7441ba1a7",
   "metadata": {},
   "source": [
    "### Exercise 12:\n",
    "Calculate the sum of all elements in a NumPy array.\n",
    "\n",
    "```python\n",
    "# Exercise 12\n",
    "```\n",
    "\n",
    "---"
   ]
  },
  {
   "cell_type": "code",
   "execution_count": 139,
   "id": "169425c2-ceae-4086-86e2-1bb648a9a381",
   "metadata": {},
   "outputs": [
    {
     "data": {
      "text/plain": [
       "10"
      ]
     },
     "execution_count": 139,
     "metadata": {},
     "output_type": "execute_result"
    }
   ],
   "source": [
    "np.sum(A)"
   ]
  },
  {
   "cell_type": "markdown",
   "id": "15737be2-287c-4525-a4de-e945eb3ccbdc",
   "metadata": {},
   "source": [
    "### Exercise 13:\n",
    "Calculate the mean, median, and standard deviation of a NumPy array.\n",
    "\n",
    "```python\n",
    "# Exercise 13\n",
    "```\n",
    "\n",
    "---"
   ]
  },
  {
   "cell_type": "code",
   "execution_count": 159,
   "id": "3568c410-52fe-4000-b691-27eaff23aae7",
   "metadata": {},
   "outputs": [
    {
     "name": "stdout",
     "output_type": "stream",
     "text": [
      "[ 1  2  3  4  5  6  7  8  9 10 11 12 13 14 15 16 17 18 19 20 21 22 23 24\n",
      " 25 26 27 28 29 30 31 32 33 34 35 36 37 38 39 40 41 42 43 44 45 46 47 48\n",
      " 49 50 51 52 53 54 55 56 57 58 59 60 61 62 63 64 65 66 67 68 69 70 71 72\n",
      " 73 74 75 76 77 78 79 80 81 82 83 84 85 86 87 88 89 90 91 92 93 94 95 96\n",
      " 97 98 99]\n"
     ]
    },
    {
     "data": {
      "text/plain": [
       "50.0"
      ]
     },
     "execution_count": 159,
     "metadata": {},
     "output_type": "execute_result"
    }
   ],
   "source": [
    "A= np.arange(1,100)\n",
    "print(A)\n",
    "np.mean(A)\n"
   ]
  },
  {
   "cell_type": "code",
   "execution_count": 161,
   "id": "ae6c80ee-78bd-4150-a43c-b0dd1591b10a",
   "metadata": {},
   "outputs": [
    {
     "data": {
      "text/plain": [
       "50.0"
      ]
     },
     "execution_count": 161,
     "metadata": {},
     "output_type": "execute_result"
    }
   ],
   "source": [
    "np.median(A)"
   ]
  },
  {
   "cell_type": "code",
   "execution_count": 171,
   "id": "e625edc2-a91a-48e6-965d-fc739129c2c6",
   "metadata": {},
   "outputs": [
    {
     "data": {
      "text/plain": [
       "28.577380332470412"
      ]
     },
     "execution_count": 171,
     "metadata": {},
     "output_type": "execute_result"
    }
   ],
   "source": [
    "np.std(A)"
   ]
  },
  {
   "cell_type": "markdown",
   "id": "4e6567fa-4014-43ab-87b5-b96252ffe453",
   "metadata": {},
   "source": [
    "### Exercise 14:\n",
    "Find the maximum and minimum values in a NumPy array.\n",
    "\n",
    "```python\n",
    "# Exercise 14\n",
    "```\n",
    "\n",
    "---"
   ]
  },
  {
   "cell_type": "code",
   "execution_count": 177,
   "id": "9cdb4207-7e77-47b5-a92f-91257184bbc4",
   "metadata": {},
   "outputs": [
    {
     "data": {
      "text/plain": [
       "99"
      ]
     },
     "execution_count": 177,
     "metadata": {},
     "output_type": "execute_result"
    }
   ],
   "source": [
    "np.max(A)"
   ]
  },
  {
   "cell_type": "code",
   "execution_count": 179,
   "id": "4516c01b-1bed-43c8-bb96-85d4eaaae741",
   "metadata": {},
   "outputs": [
    {
     "data": {
      "text/plain": [
       "1"
      ]
     },
     "execution_count": 179,
     "metadata": {},
     "output_type": "execute_result"
    }
   ],
   "source": [
    "np.min(A)"
   ]
  },
  {
   "cell_type": "markdown",
   "id": "f935e9ef-d01b-4881-bdfd-568adc6709b5",
   "metadata": {},
   "source": [
    "### Exercise 15:\n",
    "Create a NumPy array of 20 random integers and find the index of the maximum value.\n",
    "\n",
    "```python\n",
    "# Exercise 15\n",
    "```\n",
    "\n",
    "---"
   ]
  },
  {
   "cell_type": "code",
   "execution_count": 203,
   "id": "9b56827b-703d-4340-8703-ab1998371226",
   "metadata": {},
   "outputs": [
    {
     "name": "stdout",
     "output_type": "stream",
     "text": [
      "[0.51820071 0.02566272 0.20747008 0.42468547 0.37416998 0.46357542\n",
      " 0.27762871 0.58678435 0.86385561 0.11753186 0.51737911 0.13206811\n",
      " 0.71685968 0.3960597  0.56542131 0.18327984 0.14484776 0.48805628\n",
      " 0.35561274 0.94043195]\n",
      "\t\n",
      "19\n"
     ]
    }
   ],
   "source": [
    "X=np.random.rand(20)\n",
    "print(X)\n",
    "print('\\t')\n",
    "print(np.argmax(X))\n"
   ]
  },
  {
   "cell_type": "markdown",
   "id": "3da17c01-0694-40f1-a299-e8c7d5bb2f04",
   "metadata": {},
   "source": [
    "### Exercise 16:\n",
    "Create a NumPy array and reverse its elements.\n",
    "\n",
    "```python\n",
    "# Exercise 16\n",
    "```\n",
    "\n",
    "---"
   ]
  },
  {
   "cell_type": "code",
   "execution_count": 207,
   "id": "d23f5759-3d6c-438b-b017-9191f10c2333",
   "metadata": {},
   "outputs": [
    {
     "name": "stdout",
     "output_type": "stream",
     "text": [
      "[10  9  8  7  6  5  4  3  2  1]\n"
     ]
    }
   ],
   "source": [
    "N= np.arange(1,11)\n",
    "print(N[::-1])"
   ]
  },
  {
   "cell_type": "markdown",
   "id": "b04f8e84-ba96-463d-a28f-f17d06288ce5",
   "metadata": {},
   "source": [
    "### Exercise 17:\n",
    "Create a 3x3 matrix and multiply it element-wise by another 3x3 matrix.\n",
    "\n",
    "```python\n",
    "# Exercise 17\n",
    "```\n",
    "\n",
    "---"
   ]
  },
  {
   "cell_type": "code",
   "execution_count": 220,
   "id": "f34e8b76-6f80-4e8b-b964-264646cd3f9c",
   "metadata": {},
   "outputs": [
    {
     "name": "stdout",
     "output_type": "stream",
     "text": [
      "[[ 3  4  3]\n",
      " [20 30 24]\n",
      " [42 16 27]]\n"
     ]
    }
   ],
   "source": [
    "A = np.array([[1,2,3],[4,5,6],[7,8,9]])\n",
    "B = np.array([[3,2,1],[5,6,4],[6,2,3]])\n",
    "C = np.multiply(A,B)\n",
    "print(C)"
   ]
  },
  {
   "cell_type": "markdown",
   "id": "0957f477-698e-4b64-beb1-6cb4d08d233f",
   "metadata": {},
   "source": [
    "### Exercise 18:\n",
    "Create a diagonal matrix from a given 1D array.\n",
    "\n",
    "```python\n",
    "# Exercise 18\n",
    "```\n",
    "\n",
    "---"
   ]
  },
  {
   "cell_type": "code",
   "execution_count": 229,
   "id": "afe7a454-2685-4eb4-9d5e-698f2beee7a1",
   "metadata": {},
   "outputs": [
    {
     "name": "stdout",
     "output_type": "stream",
     "text": [
      "[ 3 30 27]\n"
     ]
    }
   ],
   "source": [
    "print(np.diag(C))"
   ]
  },
  {
   "cell_type": "markdown",
   "id": "c8c18c29-cdf4-4268-9899-22c7d982a498",
   "metadata": {},
   "source": [
    "### Exercise 19:\n",
    "Perform matrix multiplication on two 2D NumPy arrays.\n",
    "\n",
    "```python\n",
    "# Exercise 19\n",
    "```\n",
    "\n",
    "---"
   ]
  },
  {
   "cell_type": "code",
   "execution_count": 235,
   "id": "099aea6f-8198-4aa0-9213-15746ed00b0e",
   "metadata": {},
   "outputs": [
    {
     "name": "stdout",
     "output_type": "stream",
     "text": [
      "[[1 4]\n",
      " [4 9]]\n"
     ]
    }
   ],
   "source": [
    "A = np.array([[1,2],[2,3]])\n",
    "B = np.array([[1,2],[2,3]])\n",
    "C = np.multiply(A,B)\n",
    "print(C)"
   ]
  },
  {
   "cell_type": "markdown",
   "id": "7470181b-37fb-41e0-8307-c30be0c3192c",
   "metadata": {},
   "source": [
    "### Exercise 20:\n",
    "Flatten a 2D NumPy array into a 1D array.\n",
    "\n",
    "```python\n",
    "# Exercise 20\n",
    "```\n",
    "\n",
    "---"
   ]
  },
  {
   "cell_type": "code",
   "execution_count": 21,
   "id": "5a687b0e-e1a9-4b50-87e8-b67c02a5c7a4",
   "metadata": {},
   "outputs": [
    {
     "name": "stdout",
     "output_type": "stream",
     "text": [
      "[[10 11]\n",
      " [12 13]]\n",
      "[10 11 12 13]\n"
     ]
    }
   ],
   "source": [
    "import numpy as np\n",
    "'''\n",
    "Using numbers from 10 to 13\n",
    "'''\n",
    "y = np.arange(10, 14).reshape((2, 2))  \n",
    "print(y)\n",
    "'''\n",
    "Flatten the matrix into a 1D array\n",
    "'''\n",
    "flattened_y = y.flatten()   \n",
    "print(flattened_y)\n"
   ]
  },
  {
   "cell_type": "markdown",
   "id": "cf7b7382-9391-4836-8b16-70fb4ee203ca",
   "metadata": {},
   "source": [
    "### Exercise 21:\n",
    "Stack two NumPy arrays vertically.\n",
    "\n",
    "```python\n",
    "# Exercise 21\n",
    "```\n",
    "\n",
    "---"
   ]
  },
  {
   "cell_type": "code",
   "execution_count": 29,
   "id": "8e581c83-ccfb-4d4b-92fb-a9a54e632238",
   "metadata": {},
   "outputs": [
    {
     "name": "stdout",
     "output_type": "stream",
     "text": [
      "[[ 7  8  9]\n",
      " [10 11 12]]\n"
     ]
    }
   ],
   "source": [
    "#Stack two NumPy arrays vertically\n",
    "import numpy as np\n",
    "x=np.array([7, 8, 9])  \n",
    "y=np.array([10, 11, 12]) \n",
    "result = np.vstack((x, y))  \n",
    "print(result)"
   ]
  },
  {
   "cell_type": "markdown",
   "id": "af0a99ad-e8f0-4d5b-94c8-5b90c83b3ffa",
   "metadata": {},
   "source": [
    "### Exercise 22:\n",
    "Stack two NumPy arrays horizontally.\n",
    "\n",
    "```python\n",
    "# Exercise 22\n",
    "```\n",
    "\n",
    "---"
   ]
  },
  {
   "cell_type": "code",
   "execution_count": 33,
   "id": "ff1e682c-cd13-459b-8988-c4263667f29e",
   "metadata": {},
   "outputs": [
    {
     "name": "stdout",
     "output_type": "stream",
     "text": [
      "[ 7  8  9 13 14 15]\n"
     ]
    }
   ],
   "source": [
    "import numpy as np\n",
    "x=np.array([7, 8, 9])  \n",
    "y=np.array([13, 14, 15])  \n",
    "result=np.hstack((x, y))  \n",
    "print(result)"
   ]
  },
  {
   "cell_type": "markdown",
   "id": "849f867a-6ac4-41ef-b32d-75ca0ca4c957",
   "metadata": {},
   "source": [
    "### Exercise 23:\n",
    "Split a NumPy array into multiple sub-arrays.\n",
    "\n",
    "```python\n",
    "# Exercise 23\n",
    "```\n",
    "\n",
    "---"
   ]
  },
  {
   "cell_type": "code",
   "execution_count": 43,
   "id": "3f164fb0-4ef6-4f5f-b5ac-e56de92d16f0",
   "metadata": {},
   "outputs": [
    {
     "name": "stdout",
     "output_type": "stream",
     "text": [
      "[11 22 33 44 55 66]\n"
     ]
    }
   ],
   "source": [
    "import numpy as np\n",
    "def stack_arrays(ar1, ar2):\n",
    "    \"\"\"\n",
    "    Horizontally stacks two arrays into a single array.\n",
    "    \n",
    "    \"\"\"\n",
    "    return np.hstack((ar1, ar2))\n",
    "x = np.array([11, 22, 33])\n",
    "y = np.array([44, 55, 66])\n",
    "msb = stack_arrays(x, y)\n",
    "print(msb)\n"
   ]
  },
  {
   "cell_type": "markdown",
   "id": "8a64cc07-8398-41f0-8bf1-a6def3b9067c",
   "metadata": {},
   "source": [
    "### Exercise 24:\n",
    "Generate a random NumPy array and round each element to two decimal places.\n",
    "\n",
    "```python\n",
    "# Exercise 24\n",
    "```\n",
    "\n",
    "---"
   ]
  },
  {
   "cell_type": "code",
   "execution_count": 45,
   "id": "b900e953-6e71-4bba-ac62-6781747ffc47",
   "metadata": {},
   "outputs": [
    {
     "name": "stdout",
     "output_type": "stream",
     "text": [
      "[[0.577 0.602 0.471 0.694 0.854]\n",
      " [0.656 0.51  0.623 0.443 0.464]]\n"
     ]
    }
   ],
   "source": [
    "import numpy as np\n",
    "'''\n",
    " Generate a random array with new dimensions\n",
    "'''\n",
    "R = np.random.rand(2, 5)  \n",
    "R_rounded = np.round(R, 3)  \n",
    "print(R_rounded)"
   ]
  },
  {
   "cell_type": "markdown",
   "id": "c70dab65-6b94-48aa-a52b-fa1f1045f903",
   "metadata": {},
   "source": [
    "### Exercise 25:\n",
    "Find the unique elements of a NumPy array.\n",
    "\n",
    "```python\n",
    "# Exercise 25\n",
    "```\n",
    "\n",
    "---"
   ]
  },
  {
   "cell_type": "code",
   "execution_count": 49,
   "id": "03dce08a-bdf0-4d46-9c6c-9ca891c9a375",
   "metadata": {},
   "outputs": [
    {
     "name": "stdout",
     "output_type": "stream",
     "text": [
      "[ 5  6  8  9 10]\n"
     ]
    }
   ],
   "source": [
    "import numpy as np\n",
    "s=np.array([8, 9, 10, 8, 6, 5, 9])\n",
    "unique_elts = np.unique(s)  \n",
    "print(unique_elts)\n"
   ]
  },
  {
   "cell_type": "markdown",
   "id": "48b39bd6-c134-4de2-bf80-65c2d6fde18b",
   "metadata": {},
   "source": [
    "### Exercise 26:\n",
    "Replace all elements in a NumPy array that are less than a specific value with that value.\n",
    "\n",
    "```python\n",
    "# Exercise 26\n",
    "```\n",
    "\n",
    "---"
   ]
  },
  {
   "cell_type": "code",
   "execution_count": 53,
   "id": "6b6b5969-1de5-495b-9f9a-8f47bf47c32d",
   "metadata": {},
   "outputs": [
    {
     "name": "stdout",
     "output_type": "stream",
     "text": [
      "[12  8  8 20 15  8  8 11]\n"
     ]
    }
   ],
   "source": [
    "import numpy as np\n",
    "def replace_elts(arr, threshold):\n",
    "    \"\"\"\n",
    "    Replaces all values in the array that are below the given threshold with the threshold value.\n",
    "    \"\"\"\n",
    "    arr[arr < threshold] = threshold\n",
    "    return arr\n",
    "x=np.array([12, 7, 4, 20, 15, 2, 6, 11])\n",
    "threshold_value = 8\n",
    "r=replace_elts(x, threshold_value)\n",
    "print(r)"
   ]
  },
  {
   "cell_type": "markdown",
   "id": "6d8d0632-8a26-4718-9756-5844e20ba43e",
   "metadata": {},
   "source": [
    "### Exercise 27:\n",
    "Find the cumulative sum of the elements in a NumPy array.\n",
    "\n",
    "```python\n",
    "# Exercise 27\n",
    "```\n",
    "\n",
    "---"
   ]
  },
  {
   "cell_type": "markdown",
   "id": "3c1c8284-46a0-4b91-a47a-28c0618c9a91",
   "metadata": {},
   "source": [
    "### Exercise 28:\n",
    "Create a NumPy array and find the number of non-zero elements in it.\n",
    "\n",
    "```python\n",
    "# Exercise 28\n",
    "```"
   ]
  },
  {
   "cell_type": "code",
   "execution_count": 61,
   "id": "8be3de80-dcf6-46ca-98ca-6977c9b8a77a",
   "metadata": {},
   "outputs": [
    {
     "name": "stdout",
     "output_type": "stream",
     "text": [
      "10\n"
     ]
    }
   ],
   "source": [
    "import numpy as np\n",
    "c = np.array([7, 3, 0, 12, 0, 8, 6, 0, 2, 5, 4,3,9])  \n",
    "non_zero_count = np.count_nonzero(c)  \n",
    "print(non_zero_count)"
   ]
  },
  {
   "cell_type": "markdown",
   "id": "2c79bab3-deb9-4bd4-bfe5-ec9d56a88ac4",
   "metadata": {},
   "source": [
    "### Exercise 29:\n",
    "Create a NumPy array of random integers and sort it in ascending order.\n",
    "\n",
    "```python\n",
    "# Exercise 29\n",
    "```\n",
    "\n",
    "---"
   ]
  },
  {
   "cell_type": "markdown",
   "id": "ab936456-45a6-4903-82e8-e558f5589b28",
   "metadata": {},
   "source": [
    "### Exercise 30:\n",
    "Find the row-wise and column-wise sum of a 3x3 matrix.\n",
    "\n",
    "```python\n",
    "# Exercise 30\n",
    "```\n",
    "\n",
    "---"
   ]
  },
  {
   "cell_type": "code",
   "execution_count": null,
   "id": "433afacc-a2c3-4764-8060-f2a233e0b0c5",
   "metadata": {},
   "outputs": [],
   "source": [
    "### Exercise 31:\n",
    "Generate a 2D NumPy array with random values and normalize it (scale the values between 0 and 1).\n",
    "\n",
    "```python\n",
    "# Exercise 31\n",
    "```\n",
    "\n",
    "---"
   ]
  },
  {
   "cell_type": "code",
   "execution_count": null,
   "id": "31605ad1-a2d4-42d2-bee0-ece8e9f7f9df",
   "metadata": {},
   "outputs": [],
   "source": [
    "### Exercise 32:\n",
    "Create two NumPy arrays and find the dot product.\n",
    "\n",
    "```python\n",
    "# Exercise 32\n",
    "```\n",
    "\n",
    "---\n",
    "\n",
    "### Exercise 33:\n",
    "Find the trace of a square NumPy matrix.\n",
    "\n",
    "```python\n",
    "# Exercise 33\n",
    "```\n",
    "\n",
    "---\n",
    "\n",
    "### Exercise 34:\n",
    "Create a 2D array and swap two rows.\n",
    "\n",
    "```python\n",
    "# Exercise 34\n",
    "```\n",
    "\n",
    "---\n",
    "\n",
    "### Exercise 35:\n",
    "Create a 1D NumPy array and convert it into a column vector.\n",
    "\n",
    "```python\n",
    "# Exercise 35\n",
    "```\n",
    "\n",
    "---\n",
    "\n",
    "### Exercise 36:\n",
    "Find the determinant of a 3x3 matrix.\n",
    "\n",
    "```python\n",
    "# Exercise 36\n",
    "```\n",
    "\n",
    "---\n",
    "\n",
    "### Exercise 37:\n",
    "Find the eigenvalues and eigenvectors of a 2x2 matrix.\n",
    "\n",
    "```python\n",
    "# Exercise 37\n",
    "```\n",
    "\n",
    "---\n",
    "\n",
    "### Exercise 38:\n",
    "Solve a system of linear equations using NumPy.\n",
    "\n",
    "```python\n",
    "# Exercise 38\n",
    "```\n",
    "\n",
    "---\n",
    "\n",
    "### Exercise 39:\n",
    "Add Gaussian noise to a NumPy array.\n",
    "\n",
    "```python\n",
    "# Exercise 39\n",
    "```\n",
    "\n",
    "---\n",
    "\n",
    "### Exercise 40:\n",
    "Create a 4x4 matrix and extract the diagonal elements.\n",
    "\n",
    "```python\n",
    "# Exercise 40\n",
    "```\n",
    "\n",
    "---\n",
    "\n",
    "### Exercise 41:\n",
    "Generate a NumPy array of 100 random values and clip the values to a range between 10 and 50.\n",
    "\n",
    "```python\n",
    "# Exercise 41\n",
    "```\n",
    "\n",
    "---\n",
    "\n",
    "### Exercise 42:\n",
    "Create a 2D NumPy array and replace all negative values with zero.\n",
    "\n",
    "```python\n",
    "# Exercise 42\n",
    "```\n",
    "\n",
    "---\n",
    "\n",
    "### Exercise 43:\n",
    "Find the inner and outer products of two NumPy arrays.\n",
    "\n",
    "```python\n",
    "# Exercise 43\n",
    "```\n",
    "\n",
    "---\n",
    "\n",
    "### Exercise 44:\n",
    "Calculate the pairwise distances between points in a NumPy array.\n",
    "\n",
    "```python\n",
    "# Exercise 44\n",
    "```\n",
    "\n",
    "---\n",
    "\n",
    "### Exercise 45:\n",
    "Create a structured NumPy array with fields for `name`, `age`, and `height`.\n",
    "\n",
    "```python\n",
    "# Exercise 45\n",
    "```\n",
    "\n",
    "---\n",
    "\n",
    "### Exercise 46:\n",
    "Create a 5x5 matrix of random integers and count the occurrences of each unique value.\n",
    "\n",
    "```python\n",
    "# Exercise 46\n",
    "```\n",
    "\n",
    "---\n",
    "\n",
    "### Exercise 47:\n",
    "Generate a random 3x3 NumPy array and subtract the mean of each row from the corresponding row.\n",
    "\n",
    "```python\n",
    "# Exercise 47\n",
    "```\n",
    "\n",
    "---\n",
    "\n",
    "### Exercise 48:\n",
    "Create a NumPy array of random integers and check if any of the values are greater than 50.\n",
    "\n",
    "```python\n",
    "# Exercise 48\n",
    "```\n",
    "\n",
    "---\n",
    "\n",
    "### Exercise 49:\n",
    "Calculate the moving average of a 1D NumPy array.\n",
    "\n",
    "```python\n",
    "# Exercise 49\n",
    "```\n",
    "\n",
    "---\n",
    "\n",
    "### Exercise 50:\n",
    "Find the Pearson correlation coefficient between two NumPy arrays.\n",
    "\n",
    "```python\n",
    "# Exercise 50\n",
    "```\n",
    "\n",
    "---\n",
    "\n",
    "### Exercise 51:\n",
    "Convert a NumPy array of radians to degrees.\n",
    "\n",
    "```python\n",
    "# Exercise 51\n",
    "```\n",
    "\n",
    "---\n",
    "\n",
    "### Exercise 52:\n",
    "Create a random NumPy array and compute its variance and standard deviation.\n",
    "\n",
    "```python\n",
    "# Exercise 52\n",
    "```\n",
    "\n",
    "---\n",
    "\n",
    "### Exercise 53:\n",
    "Create a 2D NumPy array and find the indices of the maximum values along each axis.\n",
    "\n",
    "```python\n",
    "# Exercise 53\n",
    "```\n",
    "\n",
    "---\n",
    "\n",
    "### Exercise 54:\n",
    "Compute the inverse of a 2x2 NumPy matrix.\n",
    "\n",
    "```python\n",
    "# Exercise 54\n",
    "```\n",
    "\n",
    "---\n",
    "\n",
    "### Exercise 55:\n",
    "Create a NumPy array of 10 random values and standardize it (mean 0, variance 1).\n",
    "\n",
    "```python\n",
    "# Exercise 55\n",
    "```\n",
    "\n",
    "---\n",
    "\n",
    "### Exercise 56:\n",
    "Perform element-wise addition and subtraction on two NumPy arrays.\n",
    "\n",
    "```python\n",
    "# Exercise 56\n",
    "```\n",
    "\n",
    "---\n",
    "\n",
    "### Exercise 57:\n",
    "Create a NumPy array of random values and find the maximum element's index.\n",
    "\n",
    "```python\n",
    "# Exercise 57\n",
    "\n",
    "```\n",
    "---"
   ]
  },
  {
   "cell_type": "code",
   "execution_count": null,
   "id": "c361cee5-d5ff-4f62-aa3f-1656aca4eb1f",
   "metadata": {},
   "outputs": [],
   "source": [
    "\n",
    "\n",
    "\n",
    "\n",
    "\n",
    "### Exercise 58:\n",
    "Create a 3x3 NumPy array and rotate it by 90 degrees.\n",
    "\n",
    "```python\n",
    "# Exercise 58\n",
    "```\n",
    "\n",
    "---\n",
    "\n",
    "### Exercise 59:\n",
    "Compute the Frobenius norm of a matrix.\n",
    "\n",
    "```python\n",
    "# Exercise 59\n",
    "```\n",
    "\n",
    "---\n",
    "\n",
    "### Exercise 60:\n",
    "Create a 3D NumPy array and slice out a subarray.\n",
    "\n",
    "```python\n",
    "# Exercise 60\n",
    "```\n",
    "\n",
    "---"
   ]
  },
  {
   "cell_type": "markdown",
   "id": "37781694-2add-4c2b-bc1d-607943e99cd0",
   "metadata": {},
   "source": []
  }
 ],
 "metadata": {
  "kernelspec": {
   "display_name": "Python 3 (ipykernel)",
   "language": "python",
   "name": "python3"
  },
  "language_info": {
   "codemirror_mode": {
    "name": "ipython",
    "version": 3
   },
   "file_extension": ".py",
   "mimetype": "text/x-python",
   "name": "python",
   "nbconvert_exporter": "python",
   "pygments_lexer": "ipython3",
   "version": "3.12.4"
  }
 },
 "nbformat": 4,
 "nbformat_minor": 5
}
