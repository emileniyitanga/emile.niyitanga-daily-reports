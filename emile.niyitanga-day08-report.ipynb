{
 "cells": [
  {
   "cell_type": "markdown",
   "id": "fa416c3f-6cfa-4eeb-b6ce-aee65c97d5dc",
   "metadata": {},
   "source": [
    "# PyPro: challenge 1 \n",
    "\n",
    "### This challenge is due on Sunday 29th September 2024 at 8pm.\n",
    "\n",
    "`These exercises provide a wide range of challenges that test your understanding of Python's core concepts, such as control structures, data types, string manipulations, list comprehensions, and higher-order functions.`"
   ]
  },
  {
   "cell_type": "markdown",
   "id": "d8d06c0e-7e6c-4ddc-a59f-df7a411c6ce6",
   "metadata": {},
   "source": [
    "#### Basic Tasks\n",
    "\n",
    "1. Create a function `find_max()` that accepts two numeric inputs and returns the greater value. Avoid using the built-in `max()` function."
   ]
  },
  {
   "cell_type": "code",
   "execution_count": 2,
   "id": "ae5c5df5-2970-49c3-9d84-fcfe24bc5557",
   "metadata": {},
   "outputs": [
    {
     "name": "stdin",
     "output_type": "stream",
     "text": [
      "Enter x:  6\n",
      "Enter y:  7\n"
     ]
    },
    {
     "name": "stdout",
     "output_type": "stream",
     "text": [
      "6 7\n"
     ]
    }
   ],
   "source": [
    "def find_max():\n",
    "    \"\"\"\n",
    "    input of two arguments\n",
    "    \"\"\"\n",
    "    x= int(input(\"Enter x: \"))\n",
    "    y= int(input(\"Enter y: \"))\n",
    "    if x>y:\n",
    "        '''\n",
    "        It will print the maximum vaLue\n",
    "        '''\n",
    "        print('maximum is: ',x)\n",
    "    else:\n",
    "        print(x,y)\n",
    "    \n",
    "find_max()"
   ]
  },
  {
   "cell_type": "markdown",
   "id": "d30d34d9-5893-4236-a424-31a61bab3de6",
   "metadata": {},
   "source": [
    "2. Develop a function `find_max_of_three()` to find the maximum among three given numbers."
   ]
  },
  {
   "cell_type": "code",
   "execution_count": 4,
   "id": "f69d6bcc-c7ff-45c2-9bf3-f3a2943e0453",
   "metadata": {},
   "outputs": [
    {
     "name": "stdin",
     "output_type": "stream",
     "text": [
      "Enter integer x:  2\n",
      "Enter integer y:  3\n",
      "Enter integer z:  4\n"
     ]
    },
    {
     "name": "stdout",
     "output_type": "stream",
     "text": [
      "2 3 4\n"
     ]
    }
   ],
   "source": [
    "def find_max():\n",
    "    x= int(input(\"Enter integer x: \"))\n",
    "    y= int(input(\"Enter integer y: \"))\n",
    "    z= int(input(\"Enter integer z: \"))\n",
    "    '''\n",
    "    The user is required to enter three integers\n",
    "    '''\n",
    "\n",
    "    if (x>=y) and (x>=z):\n",
    "        print(\"The maximum value is: \", x)\n",
    "    else:\n",
    "        print(x, y, z)\n",
    "find_max() "
   ]
  },
  {
   "cell_type": "markdown",
   "id": "ed3c0756-8174-42cf-ac47-23078ed5612d",
   "metadata": {},
   "source": [
    "3. Write a function to manually calculate the length of a given list or string without using `len()`."
   ]
  },
  {
   "cell_type": "code",
   "execution_count": 6,
   "id": "99ee0c6b-85d1-4e10-8515-2c19a8ea059e",
   "metadata": {},
   "outputs": [
    {
     "name": "stdout",
     "output_type": "stream",
     "text": [
      "4\n"
     ]
    }
   ],
   "source": [
    "def man_leng(input_data):\n",
    "    count = 0\n",
    "    for _ in input_data:\n",
    "        count += 1\n",
    "    return count\n",
    "list = [1, 2, 3, 4]\n",
    "print(man_leng(list))   "
   ]
  },
  {
   "cell_type": "code",
   "execution_count": 10,
   "id": "943bf7bd-6c64-40e7-b08e-e36b02c8108d",
   "metadata": {},
   "outputs": [
    {
     "name": "stdout",
     "output_type": "stream",
     "text": [
      "9\n"
     ]
    }
   ],
   "source": [
    "def man_leng(input_data):\n",
    "    count = 0\n",
    "    for _ in input_data:\n",
    "        count += 1\n",
    "    return count\n",
    "string = \"NIYITANGA\"\n",
    "print(man_leng(string)) "
   ]
  },
  {
   "cell_type": "markdown",
   "id": "eec877fb-83b4-4d66-81d1-2d72be94f372",
   "metadata": {},
   "source": [
    "4. Implement a function that checks if a given character is a vowel (a, e, i, o, u)."
   ]
  },
  {
   "cell_type": "code",
   "execution_count": 12,
   "id": "2d319a70-c313-4ede-ab8b-f7941257bd76",
   "metadata": {},
   "outputs": [
    {
     "name": "stdout",
     "output_type": "stream",
     "text": [
      "True\n",
      "False\n",
      "True\n"
     ]
    }
   ],
   "source": [
    "def is_vowel(char):\n",
    "    '''\n",
    "    Both lowercase and uppercase vowels\n",
    "    '''\n",
    "    vowels = 'aeiouAEIOU'  \n",
    "    return char in vowels\n",
    "print(is_vowel('a')) \n",
    "print(is_vowel('z')) \n",
    "print(is_vowel('E'))  \n"
   ]
  },
  {
   "cell_type": "markdown",
   "id": "cb70be88-a62d-4bcf-bf65-37d0a22846f7",
   "metadata": {},
   "source": [
    "5. Write a function `encode()` that converts a string into \"rövarspråket\" ([robber's language](https://en.wikipedia.org/wiki/R%C3%B6varspr%C3%A5ket)) by doubling consonants and placing \"o\" in between, e.g., \"hello\" -> \"hohelollolo\"."
   ]
  },
  {
   "cell_type": "code",
   "execution_count": 14,
   "id": "1d6addf7-e987-4f18-a4b6-0bcc891bcb5e",
   "metadata": {},
   "outputs": [
    {
     "name": "stdout",
     "output_type": "stream",
     "text": [
      "hohelollolo\n",
      "rorobobboberor\n"
     ]
    }
   ],
   "source": [
    "def encode(text):\n",
    "    vowels = 'aeiouAEIOU'\n",
    "    encoded_text = ''\n",
    "\n",
    "    for char in text:\n",
    "        if char.isalpha() and char not in vowels:  \n",
    "            encoded_text += char + 'o' + char\n",
    "        else:\n",
    "            encoded_text += char  \n",
    "\n",
    "    return encoded_text\n",
    "print(encode('hello')) \n",
    "print(encode('robber')) \n"
   ]
  },
  {
   "cell_type": "markdown",
   "id": "1095c0c6-67cc-4eb0-bd42-4754564f2a25",
   "metadata": {},
   "source": [
    "6. Create `sum_elements()` and `product_elements()` functions to sum and multiply all elements in a list, respectively."
   ]
  },
  {
   "cell_type": "code",
   "execution_count": 18,
   "id": "64109698-36c9-418c-b69c-f335b2e1a73f",
   "metadata": {},
   "outputs": [
    {
     "name": "stdout",
     "output_type": "stream",
     "text": [
      "10\n",
      "24\n"
     ]
    }
   ],
   "source": [
    "def add_items(item_list):\n",
    "    aggregate = 0\n",
    "    for item in item_list:\n",
    "        aggregate += item\n",
    "    return aggregate\n",
    "def multiply_items(item_list):\n",
    "    result = 1\n",
    "    for item in item_list:\n",
    "        result *= item\n",
    "    return result\n",
    "sample_list = [1, 2, 3, 4]\n",
    "\n",
    "print(add_items(sample_list))     \n",
    "print(multiply_items(sample_list))  \n"
   ]
  },
  {
   "cell_type": "markdown",
   "id": "d45652c8-b971-47a9-80ca-3e647ea1dc47",
   "metadata": {},
   "source": [
    "7. Define a function `reverse_string()` to reverse the characters in a given string."
   ]
  },
  {
   "cell_type": "code",
   "execution_count": 20,
   "id": "ccd6f394-e414-4132-9005-c9d1f3dae7ca",
   "metadata": {},
   "outputs": [
    {
     "name": "stdout",
     "output_type": "stream",
     "text": [
      "ih\n",
      "rehtorb\n"
     ]
    }
   ],
   "source": [
    "def reverse_string(s):\n",
    "    reversed_s = ''\n",
    "    for char in s:\n",
    "        reversed_s = char + reversed_s \n",
    "    return reversed_s\n",
    "\n",
    "print(reverse_string(\"hi\")) \n",
    "print(reverse_string(\"brother\")) \n"
   ]
  },
  {
   "cell_type": "markdown",
   "id": "beb866c0-013f-4299-8417-32ffc070fd08",
   "metadata": {},
   "source": [
    " \n",
    "9. Implement check_palindrome() to verify if a string reads the same forwards and backwards, i.e. is a palindrome"
   ]
  },
  {
   "cell_type": "code",
   "execution_count": 24,
   "id": "474cdf16-e89e-468d-b174-8a19d06ba783",
   "metadata": {},
   "outputs": [
    {
     "name": "stdout",
     "output_type": "stream",
     "text": [
      "False\n",
      "False\n"
     ]
    }
   ],
   "source": [
    "def check_palindrome(s):\n",
    "    '''\n",
    "    Remove any spaces and convert the string to lowercase\n",
    "    '''\n",
    "    s = s.replace(\" \", \"\").lower()\n",
    "    \n",
    "    '''\n",
    "    Check if the string reads the same forwards and backwards\n",
    "    '''\n",
    "    return s == s[::-1]\n",
    "print(check_palindrome(\"madein\"))       \n",
    "print(check_palindrome(\"car\"))  "
   ]
  },
  {
   "cell_type": "markdown",
   "id": "6d6947a7-504d-4bda-b812-b3418d601058",
   "metadata": {},
   "source": [
    "10. Implement `check_palindrome()` to verify if a string reads the same forwards and backwards, i.e. is a [palindrome](https://en.wikipedia.org/wiki/Palindrome)."
   ]
  },
  {
   "cell_type": "code",
   "execution_count": null,
   "id": "cb11b551-5270-4efc-bbcd-fe3ffbadd887",
   "metadata": {},
   "outputs": [],
   "source": [
    "def check_palindrome(s):\n",
    "    '''\n",
    "    Normalize the string by removing spaces and converting to lowercase\n",
    "    '''\n",
    "    s = s.replace(\" \", \"\").lower()\n",
    "    \n",
    "    '''\n",
    "    Compare the string with its reverse\n",
    "    '''\n",
    "    return s == s[::-1]"
   ]
  },
  {
   "cell_type": "markdown",
   "id": "ce380718-8020-426f-a87a-a7f6e9268cdd",
   "metadata": {},
   "source": [
    "11. Develop a function `check_membership()` to determine if a value exists within a list."
   ]
  },
  {
   "cell_type": "code",
   "execution_count": null,
   "id": "3eaef00f-a7bd-4dbe-98ca-475bc0eefce9",
   "metadata": {},
   "outputs": [],
   "source": [
    "def check_membership(value, lst):\n",
    "    for element in lst:\n",
    "        if element == value:\n",
    "            return True\n",
    "    return False\n",
    "list = [1, 2, 3, 4, 5]\n",
    "\n",
    "print(check_membership(3, list))  \n"
   ]
  },
  {
   "cell_type": "code",
   "execution_count": null,
   "id": "17d3fbca-39b1-4d71-9965-691716e17dfe",
   "metadata": {},
   "outputs": [],
   "source": []
  },
  {
   "cell_type": "markdown",
   "id": "41b668ec-1e44-4122-9b39-0303672b5ded",
   "metadata": {},
   "source": [
    "12. Write `check_overlap()` to identify if two lists share any elements."
   ]
  },
  {
   "cell_type": "markdown",
   "id": "ae74682f-1dd4-45f4-a01f-734d44a6b991",
   "metadata": {},
   "source": [
    "13. Implement `repeat_char()` that generates a string with a specified character repeated `n` times."
   ]
  },
  {
   "cell_type": "markdown",
   "id": "0e444bf3-c3d9-40b1-9ec8-a1c2fe02020d",
   "metadata": {},
   "source": [
    "14. Create a function `print_histogram()` that takes a list of integers and prints a corresponding histogram."
   ]
  },
  {
   "cell_type": "code",
   "execution_count": null,
   "id": "2532fa6a-9fc6-414b-a6ad-dc251377b935",
   "metadata": {},
   "outputs": [],
   "source": []
  }
 ],
 "metadata": {
  "kernelspec": {
   "display_name": "Python 3 (ipykernel)",
   "language": "python",
   "name": "python3"
  },
  "language_info": {
   "codemirror_mode": {
    "name": "ipython",
    "version": 3
   },
   "file_extension": ".py",
   "mimetype": "text/x-python",
   "name": "python",
   "nbconvert_exporter": "python",
   "pygments_lexer": "ipython3",
   "version": "3.12.4"
  }
 },
 "nbformat": 4,
 "nbformat_minor": 5
}
